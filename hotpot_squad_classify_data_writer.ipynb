{
 "cells": [
  {
   "cell_type": "code",
   "execution_count": 22,
   "metadata": {},
   "outputs": [
    {
     "name": "stdout",
     "output_type": "stream",
     "text": [
      "Saving to /Users/ethanperez/research/data/hotpot-squad-q-classify-tsv/train.tsv...\n",
      "Saving to /Users/ethanperez/research/data/hotpot-squad-q-classify-tsv/dev.tsv...\n"
     ]
    }
   ],
   "source": [
    "import json\n",
    "import os\n",
    "\n",
    "file_type = 'tsv'\n",
    "assert file_type in {'csv', 'tsv'}\n",
    "\n",
    "DATA_DIR = '{}/research/data'.format(os.getenv('HOME'))\n",
    "save_dir = f'{DATA_DIR}/hotpot-squad-q-classify'\n",
    "if file_type != 'csv':\n",
    "    save_dir += '-' + file_type\n",
    "\n",
    "for split in ['train', 'dev']:\n",
    "    labeled_qlines = []\n",
    "    if file_type == 'tsv':\n",
    "        labeled_qlines.append('sentence\\tlabel')\n",
    "\n",
    "    with open(f'{DATA_DIR}/hotpot-orig/{split}.json') as f:\n",
    "        hotpot = json.load(f)\n",
    "    for example in hotpot:\n",
    "        q = example['question'].strip()\n",
    "        labeled_qlines.append(f'\"0\",\"{q}\"' if file_type == 'csv' else f'{q} \\t0')\n",
    "    \n",
    "    with open(f'{DATA_DIR}/squad/{split}.json') as f:\n",
    "        squad = json.load(f)\n",
    "    for article in squad['data']:\n",
    "        for paragraph in article['paragraphs']:\n",
    "            for qa in paragraph['qas']:\n",
    "                q = qa['question'].strip()\n",
    "                labeled_qlines.append(f'\"1\",\"{q}\"' if file_type == 'csv' else f'{q} \\t1')\n",
    "    \n",
    "    if file_type == 'tsv':\n",
    "        labeled_qlines[-1] += '\\n'\n",
    "    \n",
    "    os.makedirs(save_dir, exist_ok=True)\n",
    "    save_file = f'{save_dir}/{split}.{file_type}'\n",
    "    print(f'Saving to {save_file}...')\n",
    "    with open(save_file, 'w') as f:\n",
    "        f.writelines('\\n'.join(labeled_qlines))"
   ]
  },
  {
   "cell_type": "code",
   "execution_count": null,
   "metadata": {},
   "outputs": [],
   "source": [
    "# Run in terminal to process CSV file for fasttext input:\n",
    "myshuf() {\n",
    "  perl -MList::Util=shuffle -e 'print shuffle(<>);' \"$@\";\n",
    "}\n",
    "\n",
    "normalize_text() {\n",
    "  tr '[:upper:]' '[:lower:]' | sed -e 's/^/__label__/g' | \\\n",
    "    sed -e \"s/'/ ' /g\" -e 's/\"//g' -e 's/\\./ \\. /g' -e 's/<br \\/>/ /g' \\\n",
    "        -e 's/,/ , /g' -e 's/(/ ( /g' -e 's/)/ ) /g' -e 's/\\!/ \\! /g' \\\n",
    "        -e 's/\\?/ \\? /g' -e 's/\\;/ /g' -e 's/\\:/ /g' | tr -s \" \" | myshuf\n",
    "}\n",
    "\n",
    "cat ~/research/data/hotpot-squad-q-classify/dev.csv | normalize_text > ~/research/data/hotpot-squad-q-classify/dev.txt\n",
    "cat ~/research/data/hotpot-squad-q-classify/train.csv | normalize_text > ~/research/data/hotpot-squad-q-classify/train.txt"
   ]
  }
 ],
 "metadata": {
  "kernelspec": {
   "display_name": "Python 3",
   "language": "python",
   "name": "python3"
  },
  "language_info": {
   "codemirror_mode": {
    "name": "ipython",
    "version": 3
   },
   "file_extension": ".py",
   "mimetype": "text/x-python",
   "name": "python",
   "nbconvert_exporter": "python",
   "pygments_lexer": "ipython3",
   "version": "3.6.2+"
  }
 },
 "nbformat": 4,
 "nbformat_minor": 2
}
