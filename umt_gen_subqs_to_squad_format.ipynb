{
 "cells": [
  {
   "cell_type": "code",
   "execution_count": 1,
   "metadata": {},
   "outputs": [],
   "source": [
    "import json\n",
    "import numpy as np\n",
    "import os\n",
    "import random\n",
    "from copy import deepcopy\n",
    "from pprint import pprint\n",
    "from tqdm import tqdm\n",
    "\n",
    "DATA_DIR = '{}/research/data'.format(os.getenv('HOME'))\n",
    "subqs_dir = '{}/research/DecompRC/DecompRC/out'.format(os.getenv('HOME'))\n",
    "splits = ['train', 'dev']"
   ]
  },
  {
   "cell_type": "code",
   "execution_count": 13,
   "metadata": {},
   "outputs": [],
   "source": [
    "umt_gen_subqs_filepath = os.getenv('HOME') + '/research/XLM/dumped/umt.comparison.paired.wp=0.15.sa=0.5.ebs=256.lr=0.0001.ws=0.wd=0.0.wb=0.0/17507568/hyp.bs=1.lp=1.es=False.mh-sh.valid.pred.bleu.sh.txt'\n",
    "\n",
    "with open(umt_gen_subqs_filepath) as f:\n",
    "    raw_subqs = f.readlines()\n",
    "print(f'Read {len(raw_subqs)} Sub-Q pairs')"
   ]
  },
  {
   "cell_type": "code",
   "execution_count": 28,
   "metadata": {},
   "outputs": [],
   "source": [
    "subqs = []\n",
    "for raw_subq in raw_subqs:\n",
    "    ex_subqs = raw_subq.strip('\\n').strip().split(' ?')\n",
    "    proc_ex_subqs = []\n",
    "    for ex_subq in ex_subqs:\n",
    "        proc_ex_subq = ex_subq.strip()\n",
    "        if len(proc_ex_subq) > 0:\n",
    "            proc_ex_subqs.append(proc_ex_subq + '?')\n",
    "    subqs.append(proc_ex_subqs)\n",
    "\n",
    "subq_lens = np.array([len(subq) for subq in subqs])\n",
    "print('Mean # of Sub-Qs:', round(subq_lens.mean(), 3))"
   ]
  },
  {
   "cell_type": "code",
   "execution_count": 37,
   "metadata": {},
   "outputs": [
    {
     "data": {
      "text/plain": [
       "['was scott derrickson of which nationality?',\n",
       " 'was ed wood of which nationality?']"
      ]
     },
     "execution_count": 37,
     "metadata": {},
     "output_type": "execute_result"
    }
   ],
   "source": [
    "subqs[0]"
   ]
  },
  {
   "cell_type": "code",
   "execution_count": 40,
   "metadata": {},
   "outputs": [
    {
     "name": "stdout",
     "output_type": "stream",
     "text": [
      "Read 1487 QIDs\n"
     ]
    }
   ],
   "source": [
    "with open(f'{DATA_DIR}/umt/comparison.paired/valid.qids.txt') as f:\n",
    "    qids = f.readlines()\n",
    "qids = [qid.strip('\\n') for qid in qids]\n",
    "print(f'Read {len(qids)} QIDs')"
   ]
  },
  {
   "cell_type": "code",
   "execution_count": 43,
   "metadata": {},
   "outputs": [],
   "source": [
    "qid2subqs = {qid: subq_pair for qid, subq_pair in zip(qids, subqs)}"
   ]
  },
  {
   "cell_type": "code",
   "execution_count": null,
   "metadata": {},
   "outputs": [],
   "source": []
  }
 ],
 "metadata": {
  "kernelspec": {
   "display_name": "Python 3",
   "language": "python",
   "name": "python3"
  },
  "language_info": {
   "codemirror_mode": {
    "name": "ipython",
    "version": 3
   },
   "file_extension": ".py",
   "mimetype": "text/x-python",
   "name": "python",
   "nbconvert_exporter": "python",
   "pygments_lexer": "ipython3",
   "version": "3.6.2+"
  }
 },
 "nbformat": 4,
 "nbformat_minor": 2
}
