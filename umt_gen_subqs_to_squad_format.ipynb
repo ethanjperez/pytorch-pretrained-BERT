{
 "cells": [
  {
   "cell_type": "code",
   "execution_count": 1,
   "metadata": {},
   "outputs": [],
   "source": [
    "import json\n",
    "import numpy as np\n",
    "import os\n",
    "import random\n",
    "from copy import deepcopy\n",
    "from pprint import pprint\n",
    "from tqdm import tqdm\n",
    "\n",
    "DATA_DIR = '{}/research/data'.format(os.getenv('HOME'))"
   ]
  },
  {
   "cell_type": "code",
   "execution_count": 2,
   "metadata": {},
   "outputs": [
    {
     "name": "stdout",
     "output_type": "stream",
     "text": [
      "Read 17435 Sub-Q pairs\n",
      "model_no=2, beam=10, length_penalty=2.5\n"
     ]
    }
   ],
   "source": [
    "model_no = 2\n",
    "beam = 10\n",
    "length_penalty = 2.5\n",
    "split = 'train_para'\n",
    "\n",
    "checkpoint_dir = os.getenv('HOME') + '/research/XLM/dumped'\n",
    "if model_no == 1:\n",
    "    model_dir = 'umt.comparison.paired.wp=0.15.sa=0.5.ebs=256.lr=0.0001.ws=0.wd=0.0.wb=0.0/17507568'\n",
    "elif model_no == 2:\n",
    "    model_dir = 'umt.comparison.paired.ebs=256.lr=0.0001.ws=0.wd=0.0.wb=0.03/17410140'\n",
    "else:\n",
    "    assert False, 'Bad model_no'\n",
    "subqs_filename = f'hyp.bs={beam}.lp={length_penalty}.es=False.mh-sh.{split}.pred.bleu.sh.txt'\n",
    "\n",
    "subqs_filepath = os.path.join(checkpoint_dir, model_dir, subqs_filename)\n",
    "hotpot_split = split.replace('valid', 'dev').replace('_para', '')\n",
    "assert hotpot_split in {'train', 'dev', 'test'}\n",
    "\n",
    "with open(subqs_filepath) as f:\n",
    "    raw_subqs = f.readlines()\n",
    "print(f'Read {len(raw_subqs)} Sub-Q pairs')\n",
    "print(f'model_no={model_no}, beam={beam}, length_penalty={length_penalty}')"
   ]
  },
  {
   "cell_type": "code",
   "execution_count": 3,
   "metadata": {},
   "outputs": [
    {
     "name": "stdout",
     "output_type": "stream",
     "text": [
      "Mean # of Sub-Qs: 1.982\n"
     ]
    },
    {
     "data": {
      "text/plain": [
       "[\"arthur 's magazine was started when?\", 'first for women was started when?']"
      ]
     },
     "execution_count": 3,
     "metadata": {},
     "output_type": "execute_result"
    }
   ],
   "source": [
    "subqs = []\n",
    "for raw_subq in raw_subqs:\n",
    "    ex_subqs = raw_subq.strip('\\n').strip().split(' ?')\n",
    "    proc_ex_subqs = []\n",
    "    for ex_subq in ex_subqs:\n",
    "        proc_ex_subq = ex_subq.strip()\n",
    "        if len(proc_ex_subq) > 0:\n",
    "            proc_ex_subqs.append(proc_ex_subq + '?')\n",
    "    subqs.append(proc_ex_subqs)\n",
    "\n",
    "subq_lens = np.array([len(subq) for subq in subqs])\n",
    "print('Mean # of Sub-Qs:', round(subq_lens.mean(), 3))\n",
    "subqs[0]"
   ]
  },
  {
   "cell_type": "code",
   "execution_count": 4,
   "metadata": {},
   "outputs": [
    {
     "name": "stdout",
     "output_type": "stream",
     "text": [
      "Read 17435 QIDs\n"
     ]
    }
   ],
   "source": [
    "with open(f'{DATA_DIR}/umt/comparison.paired/{split}.qids.txt') as f:\n",
    "    qids = f.readlines()\n",
    "qids = [qid.strip('\\n') for qid in qids]\n",
    "qid2subqs = {qid: subq_pair for qid, subq_pair in zip(qids, subqs)}\n",
    "print(f'Read {len(qids)} QIDs')"
   ]
  },
  {
   "cell_type": "code",
   "execution_count": 5,
   "metadata": {},
   "outputs": [
    {
     "name": "stdout",
     "output_type": "stream",
     "text": [
      "Read 90447 HotpotQA examples\n",
      "{'paragraphs': [{'context': ['<title> vietnam national cricket team </title> the vietnam national cricket team represents vietnam in international cricket. it will debut in the cricket tournament at the 2017 southeast asian games in kuala lumpur, malaysia.', \"<title> pickwick cricket club </title> pickwick cricket club is a barbados cricket club. the club was founded on 23 november 1882, the second oldest cricket club in barbados after wanderers cricket club. the club's home from its foundation until 2005 was kensington oval in bridgetown, the main venue for matches involving the barbados national cricket team and the barbados venue for test cricket involving the west indies cricket team. the ground was built on land on kensington plantation leased by the club for a penny per annum. pickwick club developed kensington oval into the finest ground in barbados and it soon replaced the wanderers ground and the garrison savanna as the venue for inter-colonial matches.\", '<title> history of the sri lankan cricket team </title> the history of the sri lanka national cricket team began with the formation of the colombo cricket club in 1832. by the 1880s a national team, the ceylon national cricket team, was formed which began playing first-class cricket by the 1920s. the ceylon national cricket team had achieved associate member status of the international cricket council in 1965. renamed sri lanka in 1972, the national team first competed in top level international cricket in 1975, when they played against west indies during 1975 cricket world cup; west indies won the match by 9 wickets at the old trafford, manchester, england.', '<title> swaziland national cricket team </title> the swaziland national cricket team represents swaziland, a country in southern africa, in the sport of cricket. the swaziland national cricket team, which is administrated by the swaziland cricket association, is an affiliate member of the international cricket council (icc). the team, along with cameroon, the falkland islands and peru, would be promoted to affiliate status in 2007 by the icc. swaziland is also a member of the african cricket association. the swaziland national cricket team would compete in the world cricket league africa region and the icc africa twenty20 championship.', \"<title> india a cricket team </title> the india a cricket team is a national cricket team representing india. it is the 'second-tier' of indian international cricket, below the full india national cricket team. the team is currently captained by cheteshwar pujara in first-class cricket, manish pandey in list a cricket and mandeep singh in twenty20 cricket. the team is coached by former india captain rahul dravid.\", \"<title> zimbabwe a cricket team </title> the zimbabwe a cricket team is a national cricket team representing zimbabwe. it is the 'second-tier' of international zimbabwean cricket, below the full zimbabwe national cricket team. matches played by zimbabwe a are not considered to be test matches or one day internationals, instead receiving first-class and list a classification respectively. zimbabwe a played their first match in january 1994, a four-day first-class contest against the touring south africa a cricket team.\", \"<title> afghanistan a cricket team </title> the afghanistan a cricket team is a national cricket team representing afghanistan. it is the 'second-tier' of international afghan cricket, below the full afghanistan national cricket team. matches played by afghanistan a are not considered to be one day internationals, instead receiving list a classification. their first match was against the tajikistan national cricket team in december 2013. in 2017, they played a five-match series against the zimbabwe a cricket team in zimbabwe.\", '<title> cricket at the 2017 southeast asian games </title> the cricket competitions at the 2017 southeast asian games in kuala lumpur will take place at kinrara oval in selangor.', \"<title> ishitaa gidwani </title> ishitaa anoop gidwani (born may 9, 1992 in hong kong) is hong kong cricketer who plays for hong kong women's national cricket team as a captain. she made her debut for hong kong women's national cricket team against pakistan women's national cricket team in 2006.\", '<title> mozambique national cricket team </title> the mozambique national cricket team is the team that represents the country of mozambique in international cricket matches. the mozambique national cricket team, which is administered by the mozambican cricket association, is an affiliate member of the international cricket council (icc). mozambique is also a member of the african cricket association. the mozambique national cricket team has competed in the world cricket league africa region and the icc africa twenty20 championship.'], 'qas': [{'final_answers': ['2017 Southeast Asian Games'], 'question': 'Vietnam national cricket team will debut at what competitions at  Kinrara Oval', 'level': 'medium', 'type': 'bridge', 'id': '5ac28e915542996366519a0a', 'answers': [[{'answer_start': 173, 'text': '2017 southeast asian games'}], [], [], [], [], [], [], [{'answer_start': 91, 'text': '2017 southeast asian games'}], [], []]}]}], 'title': ''}\n"
     ]
    }
   ],
   "source": [
    "with open(f'{DATA_DIR}/hotpot-all/{hotpot_split}.json') as f:\n",
    "    data_hotpot = json.load(f)\n",
    "\n",
    "num_hotpot_examples = len(data_hotpot['data'])\n",
    "print(f'Read {num_hotpot_examples} HotpotQA examples')\n",
    "qid2examples = {}\n",
    "for example in data_hotpot['data']:\n",
    "    qid = example['paragraphs'][0]['qas'][0]['id']\n",
    "    qid2examples[qid] = example\n",
    "\n",
    "print(example)"
   ]
  },
  {
   "cell_type": "code",
   "execution_count": 6,
   "metadata": {},
   "outputs": [
    {
     "name": "stdout",
     "output_type": "stream",
     "text": [
      "{'paragraphs': [{'context': [\"<title> radio city (indian radio station) </title> radio city is india's first private fm radio station and was started on 3 july 2001. it broadcasts on 91.1 (earlier 91.0 in most cities) megahertz from mumbai (where it was started in 2004), bengaluru (started first in 2001), lucknow and new delhi (since 2003). it plays hindi, english and regional songs. it was launched in hyderabad in march 2006, in chennai on 7 july 2006 and in visakhapatnam october 2007. radio city recently forayed into new media in may 2008 with the launch of a music portal - planetradiocity.com that offers music related news, videos, songs, and other music-related features. the radio station currently plays a mix of hindi and regional music. abraham thomas is the ceo of the company.\", \"<title> history of albanian football </title> football in albania existed before the albanian football federation (fshf) was created. this was evidenced by the team's registration at the balkan cup tournament during 1929-1931, which started in 1929 (although albania eventually had pressure from the teams because of competition, competition started first and was strong enough in the duels) . albanian national team was founded on june 6, 1930, but albania had to wait 16 years to play its first international match and then defeated yugoslavia in 1946. in 1932, albania joined fifa (during the 12–16 june convention ) and in 1954 she was one of the founding members of uefa.\", '<title> echosmith </title> echosmith is an american, corporate indie pop band formed in february 2009 in chino, california. originally formed as a quartet of siblings, the band currently consists of sydney, noah and graham sierota, following the departure of eldest sibling jamie in late 2016. echosmith started first as \"ready set go!\" until they signed to warner bros. records in may 2012. they are best known for their hit song \"cool kids\", which reached number 13 on the \"billboard\" hot 100 and was certified double platinum by the riaa with over 1,200,000 sales in the united states and also double platinum by aria in australia. the song was warner bros. records\\' fifth-biggest-selling-digital song of 2014, with 1.3 million downloads sold. the band\\'s debut album, \"talking dreams\", was released on october 8, 2013.', \"<title> women's colleges in the southern united states </title> women's colleges in the southern united states refers to undergraduate, bachelor's degree–granting institutions, often liberal arts colleges, whose student populations consist exclusively or almost exclusively of women, located in the southern united states. many started first as girls' seminaries or academies. salem college is the oldest female educational institution in the south and wesleyan college is the first that was established specifically as a college for women. some schools, such as mary baldwin university and salem college, offer coeducational courses at the graduate level.\", '<title> first arthur county courthouse and jail </title> the first arthur county courthouse and jail, was perhaps the smallest court house in the united states, and serves now as a museum.', '<title> arthur\\'s magazine </title> arthur\\'s magazine (1844–1846) was an american literary periodical published in philadelphia in the 19th century. edited by t.s. arthur, it featured work by edgar a. poe, j.h. ingraham, sarah josepha hale, thomas g. spear, and others. in may 1846 it was merged into \"godey\\'s lady\\'s book\".', '<title> 2014-15 ukrainian hockey championship </title> the 2014–15 ukrainian hockey championship was the 23rd season of the ukrainian hockey championship. only four teams participated in the league this season, because of the instability in ukraine and that most of the clubs had economical issues. generals kiev was the only team that participated in the league the previous season, and the season started first after the year-end of 2014. the regular season included just 12 rounds, where all the teams went to the semifinals. in the final, atek kiev defeated the regular season winner hk kremenchuk.', \"<title> first for women </title> first for women is a woman's magazine published by bauer media group in the usa. the magazine was started in 1989. it is based in englewood cliffs, new jersey. in 2011 the circulation of the magazine was 1,310,696 copies.\", '<title> freeway complex fire </title> the freeway complex fire was a 2008 wildfire in the santa ana canyon area of orange county, california. the fire started as two separate fires on november 15, 2008. the \"freeway fire\" started first shortly after 9am with the \"landfill fire\" igniting approximately 2 hours later. these two separate fires merged a day later and ultimately destroyed 314 residences in anaheim hills and yorba linda.', '<title> william rast </title> william rast is an american clothing line founded by justin timberlake and trace ayala. it is most known for their premium jeans. on october 17, 2006, justin timberlake and trace ayala put on their first fashion show to launch their new william rast clothing line. the label also produces other clothing items such as jackets and tops. the company started first as a denim line, later evolving into a men’s and women’s clothing line.'], 'qas': [{'question': \"arthur 's magazine was started when?\", 'answers': [[], [], [], [], [], [], [], [], [], []], 'id': '5a7a06935542990198eaf050-0'}, {'question': 'first for women was started when?', 'answers': [[], [], [], [], [], [], [], [], [], []], 'id': '5a7a06935542990198eaf050-1'}]}], 'title': ''}\n"
     ]
    }
   ],
   "source": [
    "new_data_hotpot = {'data': []}\n",
    "for qid, subqpair in qid2subqs.items():\n",
    "    assert len(subqpair) > 0, 'There must be at least 1 Sub-Q!'\n",
    "    example = deepcopy(qid2examples[qid])\n",
    "    example['paragraphs'][0]['qas'] = [\n",
    "        {'question': subq,\n",
    "         'answers': [[] for _ in range(len(example['paragraphs'][0]['qas'][0]['answers']))],\n",
    "         'id': qid + '-' + str(i)}\n",
    "        for i, subq in enumerate(subqpair)]\n",
    "    new_data_hotpot['data'].append(example)\n",
    "\n",
    "print(new_data_hotpot['data'][0])"
   ]
  },
  {
   "cell_type": "code",
   "execution_count": 7,
   "metadata": {},
   "outputs": [
    {
     "name": "stdout",
     "output_type": "stream",
     "text": [
      "Saving to: /Users/ethanperez/research/data/hotpot-all.umt.comparison.paired.model=2.beam=10.lp=2.5\n"
     ]
    }
   ],
   "source": [
    "save_dir = f'{DATA_DIR}/hotpot-all.umt.comparison.paired.model={model_no}.beam={beam}.lp={float(length_penalty)}'\n",
    "print('Saving to', save_dir)\n",
    "os.makedirs(save_dir, exist_ok=False)\n",
    "assert not os.path.isfile(f'{save_dir}/{hotpot_split}.json'), 'File already exists!'\n",
    "with open(f'{save_dir}/{hotpot_split}.json', 'w') as f:\n",
    "    json.dump(new_data_hotpot, f, indent=2)"
   ]
  }
 ],
 "metadata": {
  "kernelspec": {
   "display_name": "Python 3",
   "language": "python",
   "name": "python3"
  },
  "language_info": {
   "codemirror_mode": {
    "name": "ipython",
    "version": 3
   },
   "file_extension": ".py",
   "mimetype": "text/x-python",
   "name": "python",
   "nbconvert_exporter": "python",
   "pygments_lexer": "ipython3",
   "version": "3.6.2+"
  }
 },
 "nbformat": 4,
 "nbformat_minor": 2
}
