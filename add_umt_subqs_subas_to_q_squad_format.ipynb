{
 "cells": [
  {
   "cell_type": "code",
   "execution_count": 5,
   "metadata": {},
   "outputs": [],
   "source": [
    "import json\n",
    "import numpy as np\n",
    "import os\n",
    "import random\n",
    "from copy import deepcopy\n",
    "from pprint import pprint\n",
    "from tqdm import tqdm\n",
    "import matplotlib.pyplot as plt\n",
    "\n",
    "DATA_DIR = '{}/research_backup/data'.format(os.getenv('HOME'))\n",
    "splits = ['dev']\n",
    "\n",
    "# Load SQUAD formatted hotpot data\n",
    "hotpot_data_folder = 'hotpot-squad'\n",
    "data = {}\n",
    "for split in splits:\n",
    "    with open(f'{DATA_DIR}/{hotpot_data_folder}/{split}.json') as f:\n",
    "        data[split] = json.load(f)"
   ]
  },
  {
   "cell_type": "code",
   "execution_count": 152,
   "metadata": {},
   "outputs": [
    {
     "name": "stdout",
     "output_type": "stream",
     "text": [
      "2930 2930 44\n"
     ]
    }
   ],
   "source": [
    "model_no = 1\n",
    "beam = 16\n",
    "length_penalty = 2.0\n",
    "\n",
    "subqs_dir = f'{DATA_DIR}/hotpot-all.umt.comparison.paired.model={model_no}.beam={beam}.lp={length_penalty}'\n",
    "\n",
    "subqs = {}\n",
    "subas = {}\n",
    "qtype = 'c'\n",
    "total_raw_subqs = 0\n",
    "raw_subas = {}\n",
    "for split in splits:\n",
    "    with open(f'{subqs_dir}/{split}.json') as f:\n",
    "        raw_subqs = json.load(f)\n",
    "    with open(f'{subqs_dir}/bert_predict.nbest=10/{split}.nbest_predictions.json') as f:\n",
    "        raw_subas.update(json.load(f))\n",
    "    for example in raw_subqs['data']:\n",
    "        for paragraph in example['paragraphs']:\n",
    "            qid = paragraph['qas'][0]['id'].split('-')[0]\n",
    "            subqs[qid] = subqs.get(qid, {})\n",
    "            for qa in paragraph['qas']:\n",
    "                total_raw_subqs += 1\n",
    "                subqs[qid][qtype] = subqs[qid].get(qtype, [])\n",
    "                subqs[qid][qtype].append(qa['question'])\n",
    "\n",
    "num_subas = 0\n",
    "num_missing_subas = 0\n",
    "subas_c_qids = {k.split('-')[0] for k in raw_subas.keys()}\n",
    "for qid in subas_c_qids:\n",
    "    subas[qid] = subas.get(qid, {})\n",
    "    subas[qid][qtype] = []\n",
    "    for i in [0, 1]:\n",
    "        subqid = qid + '-' + str(i)\n",
    "        if subqid in raw_subas:\n",
    "            subas[qid][qtype].append(raw_subas[subqid])\n",
    "            num_subas += 1\n",
    "        else:\n",
    "            num_missing_subas += 1\n",
    "suba_probs = np.array(suba_probs)\n",
    "# suba_probs = np.array(np.array(suba_probs[i]) for i in suba_probs)\n",
    "# suba_probs.sort()\n",
    "print(total_raw_subqs, num_subas, num_missing_subas)"
   ]
  },
  {
   "cell_type": "code",
   "execution_count": 149,
   "metadata": {},
   "outputs": [
    {
     "data": {
      "image/png": "[encoded data removed]",
      "text/plain": [
       "<Figure size 432x288 with 1 Axes>"
      ]
     },
     "metadata": {
      "needs_background": "light"
     },
     "output_type": "display_data"
    }
   ],
   "source": [
    "# Plot histogram of sub-A model confidence\n",
    "plt.hist(suba_probs, 100, density=True, range=(0,1))\n",
    "plt.xlabel('Confidence in Sub-Answer')\n",
    "plt.ylabel('% of Dev Examples')\n",
    "plt.title('Histogram of Single-hop QA Model Confidence (Best sub-A)')\n",
    "plt.grid(True)\n",
    "plt.show()"
   ]
  },
  {
   "cell_type": "code",
   "execution_count": 161,
   "metadata": {},
   "outputs": [
    {
     "data": {
      "text/plain": [
       "dict_keys(['dev'])"
      ]
     },
     "execution_count": 161,
     "metadata": {},
     "output_type": "execute_result"
    }
   ],
   "source": [
    "data_copy.keys()"
   ]
  },
  {
   "cell_type": "code",
   "execution_count": 168,
   "metadata": {},
   "outputs": [
    {
     "data": {
      "text/plain": [
       "1487"
      ]
     },
     "execution_count": 168,
     "metadata": {},
     "output_type": "execute_result"
    }
   ],
   "source": [
    "len(subqs)"
   ]
  },
  {
   "cell_type": "code",
   "execution_count": 172,
   "metadata": {},
   "outputs": [
    {
     "name": "stdout",
     "output_type": "stream",
     "text": [
      "Copying data...\n"
     ]
    },
    {
     "name": "stderr",
     "output_type": "stream",
     "text": [
      "100%|██████████| 7440/7440 [00:00<00:00, 30962.84it/s]\n"
     ]
    },
    {
     "name": "stdout",
     "output_type": "stream",
     "text": [
      "Mean # Tokens: 24\n",
      "# Examples: 73700\n",
      "90 %-ile # Tokens: 40\n",
      "99 %-ile # Tokens: 60\n",
      "Saving to /Users/ethanperez/research_backup/data/hotpot-all.umt.comparison.paired.model=1.beam=16.lp=2.0.q-predsubqs-predsubas.ensemble_subas...\n",
      "Copying data...\n"
     ]
    },
    {
     "name": "stderr",
     "output_type": "stream",
     "text": [
      "100%|██████████| 7440/7440 [00:00<00:00, 30900.33it/s]\n"
     ]
    },
    {
     "name": "stdout",
     "output_type": "stream",
     "text": [
      "Mean # Tokens: 24\n",
      "# Examples: 73700\n",
      "90 %-ile # Tokens: 40\n",
      "99 %-ile # Tokens: 60\n",
      "Saving to /Users/ethanperez/research_backup/data/hotpot-all.umt.comparison.paired.model=1.beam=16.lp=2.0.q-predsubqs-predsubas.ensemble_subas...\n",
      "Copying data...\n"
     ]
    },
    {
     "name": "stderr",
     "output_type": "stream",
     "text": [
      "100%|██████████| 7440/7440 [00:00<00:00, 31006.71it/s]\n"
     ]
    },
    {
     "name": "stdout",
     "output_type": "stream",
     "text": [
      "Mean # Tokens: 24\n",
      "# Examples: 73700\n",
      "90 %-ile # Tokens: 40\n",
      "99 %-ile # Tokens: 61\n",
      "Saving to /Users/ethanperez/research_backup/data/hotpot-all.umt.comparison.paired.model=1.beam=16.lp=2.0.q-predsubqs-predsubas.ensemble_subas...\n",
      "Copying data...\n"
     ]
    },
    {
     "name": "stderr",
     "output_type": "stream",
     "text": [
      "100%|██████████| 7440/7440 [00:00<00:00, 30969.17it/s]\n"
     ]
    },
    {
     "name": "stdout",
     "output_type": "stream",
     "text": [
      "Mean # Tokens: 24\n",
      "# Examples: 73700\n",
      "90 %-ile # Tokens: 40\n",
      "99 %-ile # Tokens: 61\n",
      "Saving to /Users/ethanperez/research_backup/data/hotpot-all.umt.comparison.paired.model=1.beam=16.lp=2.0.q-predsubqs-predsubas.ensemble_subas...\n",
      "Copying data...\n"
     ]
    },
    {
     "name": "stderr",
     "output_type": "stream",
     "text": [
      "100%|██████████| 7440/7440 [00:00<00:00, 28460.49it/s]\n"
     ]
    },
    {
     "name": "stdout",
     "output_type": "stream",
     "text": [
      "Mean # Tokens: 24\n",
      "# Examples: 73700\n",
      "90 %-ile # Tokens: 40\n",
      "99 %-ile # Tokens: 61\n",
      "Saving to /Users/ethanperez/research_backup/data/hotpot-all.umt.comparison.paired.model=1.beam=16.lp=2.0.q-predsubqs-predsubas.ensemble_subas...\n",
      "Copying data...\n"
     ]
    },
    {
     "name": "stderr",
     "output_type": "stream",
     "text": [
      "100%|██████████| 7440/7440 [00:00<00:00, 27441.60it/s]\n"
     ]
    },
    {
     "name": "stdout",
     "output_type": "stream",
     "text": [
      "Mean # Tokens: 24\n",
      "# Examples: 73700\n",
      "90 %-ile # Tokens: 40\n",
      "99 %-ile # Tokens: 62\n",
      "Saving to /Users/ethanperez/research_backup/data/hotpot-all.umt.comparison.paired.model=1.beam=16.lp=2.0.q-predsubqs-predsubas.ensemble_subas...\n",
      "Copying data...\n"
     ]
    },
    {
     "name": "stderr",
     "output_type": "stream",
     "text": [
      "100%|██████████| 7440/7440 [00:00<00:00, 32830.71it/s]\n"
     ]
    },
    {
     "name": "stdout",
     "output_type": "stream",
     "text": [
      "Mean # Tokens: 24\n",
      "# Examples: 73700\n",
      "90 %-ile # Tokens: 40\n",
      "99 %-ile # Tokens: 62\n",
      "Saving to /Users/ethanperez/research_backup/data/hotpot-all.umt.comparison.paired.model=1.beam=16.lp=2.0.q-predsubqs-predsubas.ensemble_subas...\n",
      "Copying data...\n"
     ]
    },
    {
     "name": "stderr",
     "output_type": "stream",
     "text": [
      "100%|██████████| 7440/7440 [00:00<00:00, 30802.75it/s]\n"
     ]
    },
    {
     "name": "stdout",
     "output_type": "stream",
     "text": [
      "Mean # Tokens: 24\n",
      "# Examples: 73700\n",
      "90 %-ile # Tokens: 41\n",
      "99 %-ile # Tokens: 62\n",
      "Saving to /Users/ethanperez/research_backup/data/hotpot-all.umt.comparison.paired.model=1.beam=16.lp=2.0.q-predsubqs-predsubas.ensemble_subas...\n",
      "Copying data...\n"
     ]
    },
    {
     "name": "stderr",
     "output_type": "stream",
     "text": [
      "100%|██████████| 7440/7440 [00:00<00:00, 31564.45it/s]\n"
     ]
    },
    {
     "name": "stdout",
     "output_type": "stream",
     "text": [
      "Mean # Tokens: 24\n",
      "# Examples: 73700\n",
      "90 %-ile # Tokens: 41\n",
      "99 %-ile # Tokens: 61\n",
      "Saving to /Users/ethanperez/research_backup/data/hotpot-all.umt.comparison.paired.model=1.beam=16.lp=2.0.q-predsubqs-predsubas.ensemble_subas...\n",
      "Copying data...\n"
     ]
    },
    {
     "name": "stderr",
     "output_type": "stream",
     "text": [
      "100%|██████████| 7440/7440 [00:00<00:00, 31614.46it/s]\n"
     ]
    },
    {
     "name": "stdout",
     "output_type": "stream",
     "text": [
      "Mean # Tokens: 24\n",
      "# Examples: 73700\n",
      "90 %-ile # Tokens: 41\n",
      "99 %-ile # Tokens: 62\n",
      "Saving to /Users/ethanperez/research_backup/data/hotpot-all.umt.comparison.paired.model=1.beam=16.lp=2.0.q-predsubqs-predsubas.ensemble_subas...\n",
      "Copying data...\n"
     ]
    },
    {
     "name": "stderr",
     "output_type": "stream",
     "text": [
      "100%|██████████| 7440/7440 [00:00<00:00, 31752.27it/s]\n"
     ]
    },
    {
     "name": "stdout",
     "output_type": "stream",
     "text": [
      "Mean # Tokens: 24\n",
      "# Examples: 73700\n",
      "90 %-ile # Tokens: 40\n",
      "99 %-ile # Tokens: 61\n",
      "Saving to /Users/ethanperez/research_backup/data/hotpot-all.umt.comparison.paired.model=1.beam=16.lp=2.0.q-predsubqs-predsubas.ensemble_subas...\n",
      "Copying data...\n"
     ]
    },
    {
     "name": "stderr",
     "output_type": "stream",
     "text": [
      "100%|██████████| 7440/7440 [00:00<00:00, 31791.70it/s]\n"
     ]
    },
    {
     "name": "stdout",
     "output_type": "stream",
     "text": [
      "Mean # Tokens: 24\n",
      "# Examples: 73700\n",
      "90 %-ile # Tokens: 40\n",
      "99 %-ile # Tokens: 61\n",
      "Saving to /Users/ethanperez/research_backup/data/hotpot-all.umt.comparison.paired.model=1.beam=16.lp=2.0.q-predsubqs-predsubas.ensemble_subas...\n",
      "Copying data...\n"
     ]
    },
    {
     "name": "stderr",
     "output_type": "stream",
     "text": [
      "100%|██████████| 7440/7440 [00:00<00:00, 33072.08it/s]\n"
     ]
    },
    {
     "name": "stdout",
     "output_type": "stream",
     "text": [
      "Mean # Tokens: 24\n",
      "# Examples: 73700\n",
      "90 %-ile # Tokens: 40\n",
      "99 %-ile # Tokens: 62\n",
      "Saving to /Users/ethanperez/research_backup/data/hotpot-all.umt.comparison.paired.model=1.beam=16.lp=2.0.q-predsubqs-predsubas.ensemble_subas...\n",
      "Copying data...\n"
     ]
    },
    {
     "name": "stderr",
     "output_type": "stream",
     "text": [
      "100%|██████████| 7440/7440 [00:00<00:00, 29603.12it/s]\n"
     ]
    },
    {
     "name": "stdout",
     "output_type": "stream",
     "text": [
      "Mean # Tokens: 24\n",
      "# Examples: 73700\n",
      "90 %-ile # Tokens: 41\n",
      "99 %-ile # Tokens: 62\n",
      "Saving to /Users/ethanperez/research_backup/data/hotpot-all.umt.comparison.paired.model=1.beam=16.lp=2.0.q-predsubqs-predsubas.ensemble_subas...\n",
      "Copying data...\n"
     ]
    },
    {
     "name": "stderr",
     "output_type": "stream",
     "text": [
      "100%|██████████| 7440/7440 [00:00<00:00, 32994.38it/s]\n"
     ]
    },
    {
     "name": "stdout",
     "output_type": "stream",
     "text": [
      "Mean # Tokens: 24\n",
      "# Examples: 73700\n",
      "90 %-ile # Tokens: 41\n",
      "99 %-ile # Tokens: 62\n",
      "Saving to /Users/ethanperez/research_backup/data/hotpot-all.umt.comparison.paired.model=1.beam=16.lp=2.0.q-predsubqs-predsubas.ensemble_subas...\n",
      "Copying data...\n"
     ]
    },
    {
     "name": "stderr",
     "output_type": "stream",
     "text": [
      "100%|██████████| 7440/7440 [00:00<00:00, 32656.83it/s]\n"
     ]
    },
    {
     "name": "stdout",
     "output_type": "stream",
     "text": [
      "Mean # Tokens: 24\n",
      "# Examples: 73700\n",
      "90 %-ile # Tokens: 41\n",
      "99 %-ile # Tokens: 64\n",
      "Saving to /Users/ethanperez/research_backup/data/hotpot-all.umt.comparison.paired.model=1.beam=16.lp=2.0.q-predsubqs-predsubas.ensemble_subas...\n",
      "Copying data...\n"
     ]
    },
    {
     "name": "stderr",
     "output_type": "stream",
     "text": [
      "100%|██████████| 7440/7440 [00:00<00:00, 31545.33it/s]\n"
     ]
    },
    {
     "name": "stdout",
     "output_type": "stream",
     "text": [
      "Mean # Tokens: 24\n",
      "# Examples: 73700\n",
      "90 %-ile # Tokens: 41\n",
      "99 %-ile # Tokens: 64\n",
      "Saving to /Users/ethanperez/research_backup/data/hotpot-all.umt.comparison.paired.model=1.beam=16.lp=2.0.q-predsubqs-predsubas.ensemble_subas...\n",
      "Copying data...\n"
     ]
    },
    {
     "name": "stderr",
     "output_type": "stream",
     "text": [
      "100%|██████████| 7440/7440 [00:00<00:00, 34603.71it/s]\n"
     ]
    },
    {
     "name": "stdout",
     "output_type": "stream",
     "text": [
      "Mean # Tokens: 24\n",
      "# Examples: 73700\n",
      "90 %-ile # Tokens: 41\n",
      "99 %-ile # Tokens: 64\n",
      "Saving to /Users/ethanperez/research_backup/data/hotpot-all.umt.comparison.paired.model=1.beam=16.lp=2.0.q-predsubqs-predsubas.ensemble_subas...\n",
      "Copying data...\n"
     ]
    },
    {
     "name": "stderr",
     "output_type": "stream",
     "text": [
      "100%|██████████| 7440/7440 [00:00<00:00, 12616.07it/s]\n"
     ]
    },
    {
     "name": "stdout",
     "output_type": "stream",
     "text": [
      "Mean # Tokens: 24\n",
      "# Examples: 73700\n",
      "90 %-ile # Tokens: 41\n",
      "99 %-ile # Tokens: 64\n",
      "Saving to /Users/ethanperez/research_backup/data/hotpot-all.umt.comparison.paired.model=1.beam=16.lp=2.0.q-predsubqs-predsubas.ensemble_subas...\n",
      "Copying data...\n"
     ]
    },
    {
     "name": "stderr",
     "output_type": "stream",
     "text": [
      "100%|██████████| 7440/7440 [00:00<00:00, 33213.97it/s]\n"
     ]
    },
    {
     "name": "stdout",
     "output_type": "stream",
     "text": [
      "Mean # Tokens: 24\n",
      "# Examples: 73700\n",
      "90 %-ile # Tokens: 41\n",
      "99 %-ile # Tokens: 64\n",
      "Saving to /Users/ethanperez/research_backup/data/hotpot-all.umt.comparison.paired.model=1.beam=16.lp=2.0.q-predsubqs-predsubas.ensemble_subas...\n",
      "Copying data...\n"
     ]
    },
    {
     "name": "stderr",
     "output_type": "stream",
     "text": [
      "100%|██████████| 7440/7440 [00:00<00:00, 34348.40it/s]\n"
     ]
    },
    {
     "name": "stdout",
     "output_type": "stream",
     "text": [
      "Mean # Tokens: 24\n",
      "# Examples: 73700\n",
      "90 %-ile # Tokens: 40\n",
      "99 %-ile # Tokens: 61\n",
      "Saving to /Users/ethanperez/research_backup/data/hotpot-all.umt.comparison.paired.model=1.beam=16.lp=2.0.q-predsubqs-predsubas.ensemble_subas...\n",
      "Copying data...\n"
     ]
    },
    {
     "name": "stderr",
     "output_type": "stream",
     "text": [
      "100%|██████████| 7440/7440 [00:00<00:00, 35223.26it/s]\n"
     ]
    },
    {
     "name": "stdout",
     "output_type": "stream",
     "text": [
      "Mean # Tokens: 24\n",
      "# Examples: 73700\n",
      "90 %-ile # Tokens: 40\n",
      "99 %-ile # Tokens: 61\n",
      "Saving to /Users/ethanperez/research_backup/data/hotpot-all.umt.comparison.paired.model=1.beam=16.lp=2.0.q-predsubqs-predsubas.ensemble_subas...\n",
      "Copying data...\n"
     ]
    },
    {
     "name": "stderr",
     "output_type": "stream",
     "text": [
      "100%|██████████| 7440/7440 [00:00<00:00, 36226.25it/s]\n"
     ]
    },
    {
     "name": "stdout",
     "output_type": "stream",
     "text": [
      "Mean # Tokens: 24\n",
      "# Examples: 73700\n",
      "90 %-ile # Tokens: 40\n",
      "99 %-ile # Tokens: 62\n",
      "Saving to /Users/ethanperez/research_backup/data/hotpot-all.umt.comparison.paired.model=1.beam=16.lp=2.0.q-predsubqs-predsubas.ensemble_subas...\n",
      "Copying data...\n"
     ]
    },
    {
     "name": "stderr",
     "output_type": "stream",
     "text": [
      "100%|██████████| 7440/7440 [00:00<00:00, 33898.04it/s]\n"
     ]
    },
    {
     "name": "stdout",
     "output_type": "stream",
     "text": [
      "Mean # Tokens: 24\n",
      "# Examples: 73700\n",
      "90 %-ile # Tokens: 41\n",
      "99 %-ile # Tokens: 62\n",
      "Saving to /Users/ethanperez/research_backup/data/hotpot-all.umt.comparison.paired.model=1.beam=16.lp=2.0.q-predsubqs-predsubas.ensemble_subas...\n",
      "Copying data...\n"
     ]
    },
    {
     "name": "stderr",
     "output_type": "stream",
     "text": [
      "100%|██████████| 7440/7440 [00:00<00:00, 34040.89it/s]\n"
     ]
    },
    {
     "name": "stdout",
     "output_type": "stream",
     "text": [
      "Mean # Tokens: 24\n",
      "# Examples: 73700\n",
      "90 %-ile # Tokens: 41\n",
      "99 %-ile # Tokens: 62\n",
      "Saving to /Users/ethanperez/research_backup/data/hotpot-all.umt.comparison.paired.model=1.beam=16.lp=2.0.q-predsubqs-predsubas.ensemble_subas...\n",
      "Copying data...\n"
     ]
    },
    {
     "name": "stderr",
     "output_type": "stream",
     "text": [
      "100%|██████████| 7440/7440 [00:00<00:00, 12483.53it/s]\n"
     ]
    },
    {
     "name": "stdout",
     "output_type": "stream",
     "text": [
      "Mean # Tokens: 24\n",
      "# Examples: 73700\n",
      "90 %-ile # Tokens: 41\n",
      "99 %-ile # Tokens: 62\n",
      "Saving to /Users/ethanperez/research_backup/data/hotpot-all.umt.comparison.paired.model=1.beam=16.lp=2.0.q-predsubqs-predsubas.ensemble_subas...\n",
      "Copying data...\n"
     ]
    },
    {
     "name": "stderr",
     "output_type": "stream",
     "text": [
      "100%|██████████| 7440/7440 [00:00<00:00, 33967.93it/s]\n"
     ]
    },
    {
     "name": "stdout",
     "output_type": "stream",
     "text": [
      "Mean # Tokens: 24\n",
      "# Examples: 73700\n",
      "90 %-ile # Tokens: 41\n",
      "99 %-ile # Tokens: 64\n",
      "Saving to /Users/ethanperez/research_backup/data/hotpot-all.umt.comparison.paired.model=1.beam=16.lp=2.0.q-predsubqs-predsubas.ensemble_subas...\n",
      "Copying data...\n"
     ]
    },
    {
     "name": "stderr",
     "output_type": "stream",
     "text": [
      "100%|██████████| 7440/7440 [00:00<00:00, 32421.56it/s]\n"
     ]
    },
    {
     "name": "stdout",
     "output_type": "stream",
     "text": [
      "Mean # Tokens: 24\n",
      "# Examples: 73700\n",
      "90 %-ile # Tokens: 41\n",
      "99 %-ile # Tokens: 62\n",
      "Saving to /Users/ethanperez/research_backup/data/hotpot-all.umt.comparison.paired.model=1.beam=16.lp=2.0.q-predsubqs-predsubas.ensemble_subas...\n",
      "Copying data...\n"
     ]
    },
    {
     "name": "stderr",
     "output_type": "stream",
     "text": [
      "100%|██████████| 7440/7440 [00:00<00:00, 34233.51it/s]\n"
     ]
    },
    {
     "name": "stdout",
     "output_type": "stream",
     "text": [
      "Mean # Tokens: 24\n",
      "# Examples: 73700\n",
      "90 %-ile # Tokens: 41\n",
      "99 %-ile # Tokens: 64\n",
      "Saving to /Users/ethanperez/research_backup/data/hotpot-all.umt.comparison.paired.model=1.beam=16.lp=2.0.q-predsubqs-predsubas.ensemble_subas...\n",
      "Copying data...\n"
     ]
    },
    {
     "name": "stderr",
     "output_type": "stream",
     "text": [
      "100%|██████████| 7440/7440 [00:00<00:00, 33544.33it/s]\n"
     ]
    },
    {
     "name": "stdout",
     "output_type": "stream",
     "text": [
      "Mean # Tokens: 24\n",
      "# Examples: 73700\n",
      "90 %-ile # Tokens: 41\n",
      "99 %-ile # Tokens: 64\n",
      "Saving to /Users/ethanperez/research_backup/data/hotpot-all.umt.comparison.paired.model=1.beam=16.lp=2.0.q-predsubqs-predsubas.ensemble_subas...\n",
      "Copying data...\n"
     ]
    },
    {
     "name": "stderr",
     "output_type": "stream",
     "text": [
      "100%|██████████| 7440/7440 [00:00<00:00, 33265.95it/s]\n"
     ]
    },
    {
     "name": "stdout",
     "output_type": "stream",
     "text": [
      "Mean # Tokens: 24\n",
      "# Examples: 73700\n",
      "90 %-ile # Tokens: 40\n",
      "99 %-ile # Tokens: 60\n",
      "Saving to /Users/ethanperez/research_backup/data/hotpot-all.umt.comparison.paired.model=1.beam=16.lp=2.0.q-predsubqs-predsubas.ensemble_subas...\n",
      "Copying data...\n"
     ]
    },
    {
     "name": "stderr",
     "output_type": "stream",
     "text": [
      "100%|██████████| 7440/7440 [00:00<00:00, 34839.64it/s]\n"
     ]
    },
    {
     "name": "stdout",
     "output_type": "stream",
     "text": [
      "Mean # Tokens: 24\n",
      "# Examples: 73700\n",
      "90 %-ile # Tokens: 41\n",
      "99 %-ile # Tokens: 61\n",
      "Saving to /Users/ethanperez/research_backup/data/hotpot-all.umt.comparison.paired.model=1.beam=16.lp=2.0.q-predsubqs-predsubas.ensemble_subas...\n",
      "Copying data...\n"
     ]
    },
    {
     "name": "stderr",
     "output_type": "stream",
     "text": [
      "100%|██████████| 7440/7440 [00:00<00:00, 13135.50it/s]\n"
     ]
    },
    {
     "name": "stdout",
     "output_type": "stream",
     "text": [
      "Mean # Tokens: 24\n",
      "# Examples: 73700\n",
      "90 %-ile # Tokens: 41\n",
      "99 %-ile # Tokens: 62\n",
      "Saving to /Users/ethanperez/research_backup/data/hotpot-all.umt.comparison.paired.model=1.beam=16.lp=2.0.q-predsubqs-predsubas.ensemble_subas...\n",
      "Copying data...\n"
     ]
    },
    {
     "name": "stderr",
     "output_type": "stream",
     "text": [
      "100%|██████████| 7440/7440 [00:00<00:00, 34366.67it/s]\n"
     ]
    },
    {
     "name": "stdout",
     "output_type": "stream",
     "text": [
      "Mean # Tokens: 24\n",
      "# Examples: 73700\n",
      "90 %-ile # Tokens: 41\n",
      "99 %-ile # Tokens: 62\n",
      "Saving to /Users/ethanperez/research_backup/data/hotpot-all.umt.comparison.paired.model=1.beam=16.lp=2.0.q-predsubqs-predsubas.ensemble_subas...\n",
      "Copying data...\n"
     ]
    },
    {
     "name": "stderr",
     "output_type": "stream",
     "text": [
      "100%|██████████| 7440/7440 [00:00<00:00, 30830.69it/s]\n"
     ]
    },
    {
     "name": "stdout",
     "output_type": "stream",
     "text": [
      "Mean # Tokens: 24\n",
      "# Examples: 73700\n",
      "90 %-ile # Tokens: 41\n",
      "99 %-ile # Tokens: 62\n",
      "Saving to /Users/ethanperez/research_backup/data/hotpot-all.umt.comparison.paired.model=1.beam=16.lp=2.0.q-predsubqs-predsubas.ensemble_subas...\n",
      "Copying data...\n"
     ]
    },
    {
     "name": "stderr",
     "output_type": "stream",
     "text": [
      "100%|██████████| 7440/7440 [00:00<00:00, 34186.14it/s]\n"
     ]
    },
    {
     "name": "stdout",
     "output_type": "stream",
     "text": [
      "Mean # Tokens: 24\n",
      "# Examples: 73700\n",
      "90 %-ile # Tokens: 41\n",
      "99 %-ile # Tokens: 64\n",
      "Saving to /Users/ethanperez/research_backup/data/hotpot-all.umt.comparison.paired.model=1.beam=16.lp=2.0.q-predsubqs-predsubas.ensemble_subas...\n",
      "Copying data...\n"
     ]
    },
    {
     "name": "stderr",
     "output_type": "stream",
     "text": [
      "100%|██████████| 7440/7440 [00:00<00:00, 33682.06it/s]\n"
     ]
    },
    {
     "name": "stdout",
     "output_type": "stream",
     "text": [
      "Mean # Tokens: 24\n",
      "# Examples: 73700\n",
      "90 %-ile # Tokens: 41\n",
      "99 %-ile # Tokens: 62\n",
      "Saving to /Users/ethanperez/research_backup/data/hotpot-all.umt.comparison.paired.model=1.beam=16.lp=2.0.q-predsubqs-predsubas.ensemble_subas...\n",
      "Copying data...\n"
     ]
    },
    {
     "name": "stderr",
     "output_type": "stream",
     "text": [
      "100%|██████████| 7440/7440 [00:00<00:00, 33971.03it/s]\n"
     ]
    },
    {
     "name": "stdout",
     "output_type": "stream",
     "text": [
      "Mean # Tokens: 24\n",
      "# Examples: 73700\n",
      "90 %-ile # Tokens: 41\n",
      "99 %-ile # Tokens: 62\n",
      "Saving to /Users/ethanperez/research_backup/data/hotpot-all.umt.comparison.paired.model=1.beam=16.lp=2.0.q-predsubqs-predsubas.ensemble_subas...\n",
      "Copying data...\n"
     ]
    },
    {
     "name": "stderr",
     "output_type": "stream",
     "text": [
      "100%|██████████| 7440/7440 [00:00<00:00, 34348.09it/s]\n"
     ]
    },
    {
     "name": "stdout",
     "output_type": "stream",
     "text": [
      "Mean # Tokens: 24\n",
      "# Examples: 73700\n",
      "90 %-ile # Tokens: 41\n",
      "99 %-ile # Tokens: 62\n",
      "Saving to /Users/ethanperez/research_backup/data/hotpot-all.umt.comparison.paired.model=1.beam=16.lp=2.0.q-predsubqs-predsubas.ensemble_subas...\n",
      "Copying data...\n"
     ]
    },
    {
     "name": "stderr",
     "output_type": "stream",
     "text": [
      "100%|██████████| 7440/7440 [00:00<00:00, 34609.19it/s]\n"
     ]
    },
    {
     "name": "stdout",
     "output_type": "stream",
     "text": [
      "Mean # Tokens: 24\n",
      "# Examples: 73700\n",
      "90 %-ile # Tokens: 41\n",
      "99 %-ile # Tokens: 62\n",
      "Saving to /Users/ethanperez/research_backup/data/hotpot-all.umt.comparison.paired.model=1.beam=16.lp=2.0.q-predsubqs-predsubas.ensemble_subas...\n",
      "Copying data...\n"
     ]
    },
    {
     "name": "stderr",
     "output_type": "stream",
     "text": [
      "100%|██████████| 7440/7440 [00:00<00:00, 33987.65it/s]\n"
     ]
    },
    {
     "name": "stdout",
     "output_type": "stream",
     "text": [
      "Mean # Tokens: 24\n",
      "# Examples: 73700\n",
      "90 %-ile # Tokens: 40\n",
      "99 %-ile # Tokens: 61\n",
      "Saving to /Users/ethanperez/research_backup/data/hotpot-all.umt.comparison.paired.model=1.beam=16.lp=2.0.q-predsubqs-predsubas.ensemble_subas...\n",
      "Copying data...\n"
     ]
    },
    {
     "name": "stderr",
     "output_type": "stream",
     "text": [
      "100%|██████████| 7440/7440 [00:00<00:00, 34930.23it/s]\n"
     ]
    },
    {
     "name": "stdout",
     "output_type": "stream",
     "text": [
      "Mean # Tokens: 24\n",
      "# Examples: 73700\n",
      "90 %-ile # Tokens: 41\n",
      "99 %-ile # Tokens: 62\n",
      "Saving to /Users/ethanperez/research_backup/data/hotpot-all.umt.comparison.paired.model=1.beam=16.lp=2.0.q-predsubqs-predsubas.ensemble_subas...\n",
      "Copying data...\n"
     ]
    },
    {
     "name": "stderr",
     "output_type": "stream",
     "text": [
      "100%|██████████| 7440/7440 [00:00<00:00, 34845.67it/s]\n"
     ]
    },
    {
     "name": "stdout",
     "output_type": "stream",
     "text": [
      "Mean # Tokens: 24\n",
      "# Examples: 73700\n",
      "90 %-ile # Tokens: 41\n",
      "99 %-ile # Tokens: 61\n",
      "Saving to /Users/ethanperez/research_backup/data/hotpot-all.umt.comparison.paired.model=1.beam=16.lp=2.0.q-predsubqs-predsubas.ensemble_subas...\n",
      "Copying data...\n"
     ]
    },
    {
     "name": "stderr",
     "output_type": "stream",
     "text": [
      "100%|██████████| 7440/7440 [00:00<00:00, 32179.50it/s]\n"
     ]
    },
    {
     "name": "stdout",
     "output_type": "stream",
     "text": [
      "Mean # Tokens: 24\n",
      "# Examples: 73700\n",
      "90 %-ile # Tokens: 41\n",
      "99 %-ile # Tokens: 62\n",
      "Saving to /Users/ethanperez/research_backup/data/hotpot-all.umt.comparison.paired.model=1.beam=16.lp=2.0.q-predsubqs-predsubas.ensemble_subas...\n",
      "Copying data...\n"
     ]
    },
    {
     "name": "stderr",
     "output_type": "stream",
     "text": [
      "100%|██████████| 7440/7440 [00:00<00:00, 32352.02it/s]\n"
     ]
    },
    {
     "name": "stdout",
     "output_type": "stream",
     "text": [
      "Mean # Tokens: 24\n",
      "# Examples: 73700\n",
      "90 %-ile # Tokens: 41\n",
      "99 %-ile # Tokens: 62\n",
      "Saving to /Users/ethanperez/research_backup/data/hotpot-all.umt.comparison.paired.model=1.beam=16.lp=2.0.q-predsubqs-predsubas.ensemble_subas...\n",
      "Copying data...\n"
     ]
    },
    {
     "name": "stderr",
     "output_type": "stream",
     "text": [
      "100%|██████████| 7440/7440 [00:00<00:00, 27937.34it/s]\n"
     ]
    },
    {
     "name": "stdout",
     "output_type": "stream",
     "text": [
      "Mean # Tokens: 24\n",
      "# Examples: 73700\n",
      "90 %-ile # Tokens: 41\n",
      "99 %-ile # Tokens: 62\n",
      "Saving to /Users/ethanperez/research_backup/data/hotpot-all.umt.comparison.paired.model=1.beam=16.lp=2.0.q-predsubqs-predsubas.ensemble_subas...\n",
      "Copying data...\n"
     ]
    },
    {
     "name": "stderr",
     "output_type": "stream",
     "text": [
      "100%|██████████| 7440/7440 [00:00<00:00, 31721.80it/s]\n"
     ]
    },
    {
     "name": "stdout",
     "output_type": "stream",
     "text": [
      "Mean # Tokens: 24\n",
      "# Examples: 73700\n",
      "90 %-ile # Tokens: 41\n",
      "99 %-ile # Tokens: 62\n",
      "Saving to /Users/ethanperez/research_backup/data/hotpot-all.umt.comparison.paired.model=1.beam=16.lp=2.0.q-predsubqs-predsubas.ensemble_subas...\n",
      "Copying data...\n"
     ]
    },
    {
     "name": "stderr",
     "output_type": "stream",
     "text": [
      "100%|██████████| 7440/7440 [00:00<00:00, 31072.75it/s]\n"
     ]
    },
    {
     "name": "stdout",
     "output_type": "stream",
     "text": [
      "Mean # Tokens: 24\n",
      "# Examples: 73700\n",
      "90 %-ile # Tokens: 41\n",
      "99 %-ile # Tokens: 64\n",
      "Saving to /Users/ethanperez/research_backup/data/hotpot-all.umt.comparison.paired.model=1.beam=16.lp=2.0.q-predsubqs-predsubas.ensemble_subas...\n",
      "Copying data...\n"
     ]
    },
    {
     "name": "stderr",
     "output_type": "stream",
     "text": [
      "100%|██████████| 7440/7440 [00:00<00:00, 32348.53it/s]\n"
     ]
    },
    {
     "name": "stdout",
     "output_type": "stream",
     "text": [
      "Mean # Tokens: 24\n",
      "# Examples: 73700\n",
      "90 %-ile # Tokens: 41\n",
      "99 %-ile # Tokens: 64\n",
      "Saving to /Users/ethanperez/research_backup/data/hotpot-all.umt.comparison.paired.model=1.beam=16.lp=2.0.q-predsubqs-predsubas.ensemble_subas...\n",
      "Copying data...\n"
     ]
    },
    {
     "name": "stderr",
     "output_type": "stream",
     "text": [
      "100%|██████████| 7440/7440 [00:00<00:00, 31932.44it/s]\n"
     ]
    },
    {
     "name": "stdout",
     "output_type": "stream",
     "text": [
      "Mean # Tokens: 24\n",
      "# Examples: 73700\n",
      "90 %-ile # Tokens: 41\n",
      "99 %-ile # Tokens: 64\n",
      "Saving to /Users/ethanperez/research_backup/data/hotpot-all.umt.comparison.paired.model=1.beam=16.lp=2.0.q-predsubqs-predsubas.ensemble_subas...\n",
      "Copying data...\n"
     ]
    },
    {
     "name": "stderr",
     "output_type": "stream",
     "text": [
      "100%|██████████| 7440/7440 [00:00<00:00, 11853.87it/s]\n"
     ]
    },
    {
     "name": "stdout",
     "output_type": "stream",
     "text": [
      "Mean # Tokens: 24\n",
      "# Examples: 73700\n",
      "90 %-ile # Tokens: 40\n",
      "99 %-ile # Tokens: 61\n",
      "Saving to /Users/ethanperez/research_backup/data/hotpot-all.umt.comparison.paired.model=1.beam=16.lp=2.0.q-predsubqs-predsubas.ensemble_subas...\n",
      "Copying data...\n"
     ]
    },
    {
     "name": "stderr",
     "output_type": "stream",
     "text": [
      "100%|██████████| 7440/7440 [00:00<00:00, 32949.79it/s]\n"
     ]
    },
    {
     "name": "stdout",
     "output_type": "stream",
     "text": [
      "Mean # Tokens: 24\n",
      "# Examples: 73700\n",
      "90 %-ile # Tokens: 41\n",
      "99 %-ile # Tokens: 62\n",
      "Saving to /Users/ethanperez/research_backup/data/hotpot-all.umt.comparison.paired.model=1.beam=16.lp=2.0.q-predsubqs-predsubas.ensemble_subas...\n",
      "Copying data...\n"
     ]
    },
    {
     "name": "stderr",
     "output_type": "stream",
     "text": [
      "100%|██████████| 7440/7440 [00:00<00:00, 33639.94it/s]\n"
     ]
    },
    {
     "name": "stdout",
     "output_type": "stream",
     "text": [
      "Mean # Tokens: 24\n",
      "# Examples: 73700\n",
      "90 %-ile # Tokens: 41\n",
      "99 %-ile # Tokens: 62\n",
      "Saving to /Users/ethanperez/research_backup/data/hotpot-all.umt.comparison.paired.model=1.beam=16.lp=2.0.q-predsubqs-predsubas.ensemble_subas...\n",
      "Copying data...\n"
     ]
    },
    {
     "name": "stderr",
     "output_type": "stream",
     "text": [
      "100%|██████████| 7440/7440 [00:00<00:00, 32098.34it/s]\n"
     ]
    },
    {
     "name": "stdout",
     "output_type": "stream",
     "text": [
      "Mean # Tokens: 24\n",
      "# Examples: 73700\n",
      "90 %-ile # Tokens: 41\n",
      "99 %-ile # Tokens: 64\n",
      "Saving to /Users/ethanperez/research_backup/data/hotpot-all.umt.comparison.paired.model=1.beam=16.lp=2.0.q-predsubqs-predsubas.ensemble_subas...\n",
      "Copying data...\n"
     ]
    },
    {
     "name": "stderr",
     "output_type": "stream",
     "text": [
      "100%|██████████| 7440/7440 [00:00<00:00, 11984.96it/s]\n"
     ]
    },
    {
     "name": "stdout",
     "output_type": "stream",
     "text": [
      "Mean # Tokens: 24\n",
      "# Examples: 73700\n",
      "90 %-ile # Tokens: 41\n",
      "99 %-ile # Tokens: 62\n",
      "Saving to /Users/ethanperez/research_backup/data/hotpot-all.umt.comparison.paired.model=1.beam=16.lp=2.0.q-predsubqs-predsubas.ensemble_subas...\n",
      "Copying data...\n"
     ]
    },
    {
     "name": "stderr",
     "output_type": "stream",
     "text": [
      "100%|██████████| 7440/7440 [00:00<00:00, 33396.50it/s]\n"
     ]
    },
    {
     "name": "stdout",
     "output_type": "stream",
     "text": [
      "Mean # Tokens: 24\n",
      "# Examples: 73700\n",
      "90 %-ile # Tokens: 41\n",
      "99 %-ile # Tokens: 64\n",
      "Saving to /Users/ethanperez/research_backup/data/hotpot-all.umt.comparison.paired.model=1.beam=16.lp=2.0.q-predsubqs-predsubas.ensemble_subas...\n",
      "Copying data...\n"
     ]
    },
    {
     "name": "stderr",
     "output_type": "stream",
     "text": [
      "100%|██████████| 7440/7440 [00:00<00:00, 33144.12it/s]\n"
     ]
    },
    {
     "name": "stdout",
     "output_type": "stream",
     "text": [
      "Mean # Tokens: 24\n",
      "# Examples: 73700\n",
      "90 %-ile # Tokens: 41\n",
      "99 %-ile # Tokens: 64\n",
      "Saving to /Users/ethanperez/research_backup/data/hotpot-all.umt.comparison.paired.model=1.beam=16.lp=2.0.q-predsubqs-predsubas.ensemble_subas...\n",
      "Copying data...\n"
     ]
    },
    {
     "name": "stderr",
     "output_type": "stream",
     "text": [
      "100%|██████████| 7440/7440 [00:00<00:00, 32761.77it/s]\n"
     ]
    },
    {
     "name": "stdout",
     "output_type": "stream",
     "text": [
      "Mean # Tokens: 24\n",
      "# Examples: 73700\n",
      "90 %-ile # Tokens: 41\n",
      "99 %-ile # Tokens: 64\n",
      "Saving to /Users/ethanperez/research_backup/data/hotpot-all.umt.comparison.paired.model=1.beam=16.lp=2.0.q-predsubqs-predsubas.ensemble_subas...\n",
      "Copying data...\n"
     ]
    },
    {
     "name": "stderr",
     "output_type": "stream",
     "text": [
      "100%|██████████| 7440/7440 [00:00<00:00, 33449.59it/s]\n"
     ]
    },
    {
     "name": "stdout",
     "output_type": "stream",
     "text": [
      "Mean # Tokens: 24\n",
      "# Examples: 73700\n",
      "90 %-ile # Tokens: 42\n",
      "99 %-ile # Tokens: 64\n",
      "Saving to /Users/ethanperez/research_backup/data/hotpot-all.umt.comparison.paired.model=1.beam=16.lp=2.0.q-predsubqs-predsubas.ensemble_subas...\n",
      "Copying data...\n"
     ]
    },
    {
     "name": "stderr",
     "output_type": "stream",
     "text": [
      "100%|██████████| 7440/7440 [00:00<00:00, 33071.48it/s]\n"
     ]
    },
    {
     "name": "stdout",
     "output_type": "stream",
     "text": [
      "Mean # Tokens: 24\n",
      "# Examples: 73700\n",
      "90 %-ile # Tokens: 42\n",
      "99 %-ile # Tokens: 64\n",
      "Saving to /Users/ethanperez/research_backup/data/hotpot-all.umt.comparison.paired.model=1.beam=16.lp=2.0.q-predsubqs-predsubas.ensemble_subas...\n",
      "Copying data...\n"
     ]
    },
    {
     "name": "stderr",
     "output_type": "stream",
     "text": [
      "100%|██████████| 7440/7440 [00:00<00:00, 33072.25it/s]\n"
     ]
    },
    {
     "name": "stdout",
     "output_type": "stream",
     "text": [
      "Mean # Tokens: 24\n",
      "# Examples: 73700\n",
      "90 %-ile # Tokens: 41\n",
      "99 %-ile # Tokens: 61\n",
      "Saving to /Users/ethanperez/research_backup/data/hotpot-all.umt.comparison.paired.model=1.beam=16.lp=2.0.q-predsubqs-predsubas.ensemble_subas...\n",
      "Copying data...\n"
     ]
    },
    {
     "name": "stderr",
     "output_type": "stream",
     "text": [
      "100%|██████████| 7440/7440 [00:00<00:00, 32562.43it/s]\n"
     ]
    },
    {
     "name": "stdout",
     "output_type": "stream",
     "text": [
      "Mean # Tokens: 24\n",
      "# Examples: 73700\n",
      "90 %-ile # Tokens: 41\n",
      "99 %-ile # Tokens: 62\n",
      "Saving to /Users/ethanperez/research_backup/data/hotpot-all.umt.comparison.paired.model=1.beam=16.lp=2.0.q-predsubqs-predsubas.ensemble_subas...\n",
      "Copying data...\n"
     ]
    },
    {
     "name": "stderr",
     "output_type": "stream",
     "text": [
      "100%|██████████| 7440/7440 [00:00<00:00, 11985.62it/s]\n"
     ]
    },
    {
     "name": "stdout",
     "output_type": "stream",
     "text": [
      "Mean # Tokens: 24\n",
      "# Examples: 73700\n",
      "90 %-ile # Tokens: 41\n",
      "99 %-ile # Tokens: 62\n",
      "Saving to /Users/ethanperez/research_backup/data/hotpot-all.umt.comparison.paired.model=1.beam=16.lp=2.0.q-predsubqs-predsubas.ensemble_subas...\n",
      "Copying data...\n"
     ]
    },
    {
     "name": "stderr",
     "output_type": "stream",
     "text": [
      "100%|██████████| 7440/7440 [00:00<00:00, 33458.52it/s]\n"
     ]
    },
    {
     "name": "stdout",
     "output_type": "stream",
     "text": [
      "Mean # Tokens: 24\n",
      "# Examples: 73700\n",
      "90 %-ile # Tokens: 41\n",
      "99 %-ile # Tokens: 62\n",
      "Saving to /Users/ethanperez/research_backup/data/hotpot-all.umt.comparison.paired.model=1.beam=16.lp=2.0.q-predsubqs-predsubas.ensemble_subas...\n",
      "Copying data...\n"
     ]
    },
    {
     "name": "stderr",
     "output_type": "stream",
     "text": [
      "100%|██████████| 7440/7440 [00:00<00:00, 32380.65it/s]\n"
     ]
    },
    {
     "name": "stdout",
     "output_type": "stream",
     "text": [
      "Mean # Tokens: 24\n",
      "# Examples: 73700\n",
      "90 %-ile # Tokens: 41\n",
      "99 %-ile # Tokens: 62\n",
      "Saving to /Users/ethanperez/research_backup/data/hotpot-all.umt.comparison.paired.model=1.beam=16.lp=2.0.q-predsubqs-predsubas.ensemble_subas...\n",
      "Copying data...\n"
     ]
    },
    {
     "name": "stderr",
     "output_type": "stream",
     "text": [
      "100%|██████████| 7440/7440 [00:00<00:00, 33442.60it/s]\n"
     ]
    },
    {
     "name": "stdout",
     "output_type": "stream",
     "text": [
      "Mean # Tokens: 24\n",
      "# Examples: 73700\n",
      "90 %-ile # Tokens: 41\n",
      "99 %-ile # Tokens: 64\n",
      "Saving to /Users/ethanperez/research_backup/data/hotpot-all.umt.comparison.paired.model=1.beam=16.lp=2.0.q-predsubqs-predsubas.ensemble_subas...\n",
      "Copying data...\n"
     ]
    },
    {
     "name": "stderr",
     "output_type": "stream",
     "text": [
      "100%|██████████| 7440/7440 [00:00<00:00, 12276.76it/s]\n"
     ]
    },
    {
     "name": "stdout",
     "output_type": "stream",
     "text": [
      "Mean # Tokens: 24\n",
      "# Examples: 73700\n",
      "90 %-ile # Tokens: 42\n",
      "99 %-ile # Tokens: 64\n",
      "Saving to /Users/ethanperez/research_backup/data/hotpot-all.umt.comparison.paired.model=1.beam=16.lp=2.0.q-predsubqs-predsubas.ensemble_subas...\n",
      "Copying data...\n"
     ]
    },
    {
     "name": "stderr",
     "output_type": "stream",
     "text": [
      "100%|██████████| 7440/7440 [00:00<00:00, 34539.13it/s]\n"
     ]
    },
    {
     "name": "stdout",
     "output_type": "stream",
     "text": [
      "Mean # Tokens: 24\n",
      "# Examples: 73700\n",
      "90 %-ile # Tokens: 42\n",
      "99 %-ile # Tokens: 64\n",
      "Saving to /Users/ethanperez/research_backup/data/hotpot-all.umt.comparison.paired.model=1.beam=16.lp=2.0.q-predsubqs-predsubas.ensemble_subas...\n",
      "Copying data...\n"
     ]
    },
    {
     "name": "stderr",
     "output_type": "stream",
     "text": [
      "100%|██████████| 7440/7440 [00:00<00:00, 32676.97it/s]\n"
     ]
    },
    {
     "name": "stdout",
     "output_type": "stream",
     "text": [
      "Mean # Tokens: 24\n",
      "# Examples: 73700\n",
      "90 %-ile # Tokens: 42\n",
      "99 %-ile # Tokens: 64\n",
      "Saving to /Users/ethanperez/research_backup/data/hotpot-all.umt.comparison.paired.model=1.beam=16.lp=2.0.q-predsubqs-predsubas.ensemble_subas...\n",
      "Copying data...\n"
     ]
    },
    {
     "name": "stderr",
     "output_type": "stream",
     "text": [
      "100%|██████████| 7440/7440 [00:00<00:00, 32631.90it/s]\n"
     ]
    },
    {
     "name": "stdout",
     "output_type": "stream",
     "text": [
      "Mean # Tokens: 25\n",
      "# Examples: 73700\n",
      "90 %-ile # Tokens: 42\n",
      "99 %-ile # Tokens: 64\n",
      "Saving to /Users/ethanperez/research_backup/data/hotpot-all.umt.comparison.paired.model=1.beam=16.lp=2.0.q-predsubqs-predsubas.ensemble_subas...\n",
      "Copying data...\n"
     ]
    },
    {
     "name": "stderr",
     "output_type": "stream",
     "text": [
      "100%|██████████| 7440/7440 [00:00<00:00, 30258.30it/s]\n"
     ]
    },
    {
     "name": "stdout",
     "output_type": "stream",
     "text": [
      "Mean # Tokens: 24\n",
      "# Examples: 73700\n",
      "90 %-ile # Tokens: 41\n",
      "99 %-ile # Tokens: 62\n",
      "Saving to /Users/ethanperez/research_backup/data/hotpot-all.umt.comparison.paired.model=1.beam=16.lp=2.0.q-predsubqs-predsubas.ensemble_subas...\n",
      "Copying data...\n"
     ]
    },
    {
     "name": "stderr",
     "output_type": "stream",
     "text": [
      "100%|██████████| 7440/7440 [00:00<00:00, 32763.22it/s]\n"
     ]
    },
    {
     "name": "stdout",
     "output_type": "stream",
     "text": [
      "Mean # Tokens: 24\n",
      "# Examples: 73700\n",
      "90 %-ile # Tokens: 41\n",
      "99 %-ile # Tokens: 61\n",
      "Saving to /Users/ethanperez/research_backup/data/hotpot-all.umt.comparison.paired.model=1.beam=16.lp=2.0.q-predsubqs-predsubas.ensemble_subas...\n",
      "Copying data...\n"
     ]
    },
    {
     "name": "stderr",
     "output_type": "stream",
     "text": [
      "100%|██████████| 7440/7440 [00:00<00:00, 32622.82it/s]\n"
     ]
    },
    {
     "name": "stdout",
     "output_type": "stream",
     "text": [
      "Mean # Tokens: 24\n",
      "# Examples: 73700\n",
      "90 %-ile # Tokens: 41\n",
      "99 %-ile # Tokens: 62\n",
      "Saving to /Users/ethanperez/research_backup/data/hotpot-all.umt.comparison.paired.model=1.beam=16.lp=2.0.q-predsubqs-predsubas.ensemble_subas...\n",
      "Copying data...\n"
     ]
    },
    {
     "name": "stderr",
     "output_type": "stream",
     "text": [
      "100%|██████████| 7440/7440 [00:00<00:00, 12288.38it/s]\n"
     ]
    },
    {
     "name": "stdout",
     "output_type": "stream",
     "text": [
      "Mean # Tokens: 24\n",
      "# Examples: 73700\n",
      "90 %-ile # Tokens: 41\n",
      "99 %-ile # Tokens: 64\n",
      "Saving to /Users/ethanperez/research_backup/data/hotpot-all.umt.comparison.paired.model=1.beam=16.lp=2.0.q-predsubqs-predsubas.ensemble_subas...\n",
      "Copying data...\n"
     ]
    },
    {
     "name": "stderr",
     "output_type": "stream",
     "text": [
      "100%|██████████| 7440/7440 [00:00<00:00, 33901.43it/s]\n"
     ]
    },
    {
     "name": "stdout",
     "output_type": "stream",
     "text": [
      "Mean # Tokens: 24\n",
      "# Examples: 73700\n",
      "90 %-ile # Tokens: 41\n",
      "99 %-ile # Tokens: 64\n",
      "Saving to /Users/ethanperez/research_backup/data/hotpot-all.umt.comparison.paired.model=1.beam=16.lp=2.0.q-predsubqs-predsubas.ensemble_subas...\n",
      "Copying data...\n"
     ]
    },
    {
     "name": "stderr",
     "output_type": "stream",
     "text": [
      "100%|██████████| 7440/7440 [00:00<00:00, 32122.39it/s]\n"
     ]
    },
    {
     "name": "stdout",
     "output_type": "stream",
     "text": [
      "Mean # Tokens: 24\n",
      "# Examples: 73700\n",
      "90 %-ile # Tokens: 41\n",
      "99 %-ile # Tokens: 64\n",
      "Saving to /Users/ethanperez/research_backup/data/hotpot-all.umt.comparison.paired.model=1.beam=16.lp=2.0.q-predsubqs-predsubas.ensemble_subas...\n",
      "Copying data...\n"
     ]
    },
    {
     "name": "stderr",
     "output_type": "stream",
     "text": [
      "100%|██████████| 7440/7440 [00:00<00:00, 34726.78it/s]\n"
     ]
    },
    {
     "name": "stdout",
     "output_type": "stream",
     "text": [
      "Mean # Tokens: 24\n",
      "# Examples: 73700\n",
      "90 %-ile # Tokens: 42\n",
      "99 %-ile # Tokens: 64\n",
      "Saving to /Users/ethanperez/research_backup/data/hotpot-all.umt.comparison.paired.model=1.beam=16.lp=2.0.q-predsubqs-predsubas.ensemble_subas...\n",
      "Copying data...\n"
     ]
    },
    {
     "name": "stderr",
     "output_type": "stream",
     "text": [
      "100%|██████████| 7440/7440 [00:00<00:00, 33115.39it/s]\n"
     ]
    },
    {
     "name": "stdout",
     "output_type": "stream",
     "text": [
      "Mean # Tokens: 25\n",
      "# Examples: 73700\n",
      "90 %-ile # Tokens: 42\n",
      "99 %-ile # Tokens: 65\n",
      "Saving to /Users/ethanperez/research_backup/data/hotpot-all.umt.comparison.paired.model=1.beam=16.lp=2.0.q-predsubqs-predsubas.ensemble_subas...\n",
      "Copying data...\n"
     ]
    },
    {
     "name": "stderr",
     "output_type": "stream",
     "text": [
      "100%|██████████| 7440/7440 [00:00<00:00, 33897.38it/s]\n"
     ]
    },
    {
     "name": "stdout",
     "output_type": "stream",
     "text": [
      "Mean # Tokens: 25\n",
      "# Examples: 73700\n",
      "90 %-ile # Tokens: 42\n",
      "99 %-ile # Tokens: 65\n",
      "Saving to /Users/ethanperez/research_backup/data/hotpot-all.umt.comparison.paired.model=1.beam=16.lp=2.0.q-predsubqs-predsubas.ensemble_subas...\n",
      "Copying data...\n"
     ]
    },
    {
     "name": "stderr",
     "output_type": "stream",
     "text": [
      "100%|██████████| 7440/7440 [00:00<00:00, 35082.13it/s]\n"
     ]
    },
    {
     "name": "stdout",
     "output_type": "stream",
     "text": [
      "Mean # Tokens: 25\n",
      "# Examples: 73700\n",
      "90 %-ile # Tokens: 42\n",
      "99 %-ile # Tokens: 65\n",
      "Saving to /Users/ethanperez/research_backup/data/hotpot-all.umt.comparison.paired.model=1.beam=16.lp=2.0.q-predsubqs-predsubas.ensemble_subas...\n",
      "Copying data...\n"
     ]
    },
    {
     "name": "stderr",
     "output_type": "stream",
     "text": [
      "100%|██████████| 7440/7440 [00:00<00:00, 34590.36it/s]\n"
     ]
    },
    {
     "name": "stdout",
     "output_type": "stream",
     "text": [
      "Mean # Tokens: 24\n",
      "# Examples: 73700\n",
      "90 %-ile # Tokens: 41\n",
      "99 %-ile # Tokens: 61\n",
      "Saving to /Users/ethanperez/research_backup/data/hotpot-all.umt.comparison.paired.model=1.beam=16.lp=2.0.q-predsubqs-predsubas.ensemble_subas...\n",
      "Copying data...\n"
     ]
    },
    {
     "name": "stderr",
     "output_type": "stream",
     "text": [
      "100%|██████████| 7440/7440 [00:00<00:00, 34435.54it/s]\n"
     ]
    },
    {
     "name": "stdout",
     "output_type": "stream",
     "text": [
      "Mean # Tokens: 24\n",
      "# Examples: 73700\n",
      "90 %-ile # Tokens: 41\n",
      "99 %-ile # Tokens: 62\n",
      "Saving to /Users/ethanperez/research_backup/data/hotpot-all.umt.comparison.paired.model=1.beam=16.lp=2.0.q-predsubqs-predsubas.ensemble_subas...\n",
      "Copying data...\n"
     ]
    },
    {
     "name": "stderr",
     "output_type": "stream",
     "text": [
      "100%|██████████| 7440/7440 [00:00<00:00, 35609.36it/s]\n"
     ]
    },
    {
     "name": "stdout",
     "output_type": "stream",
     "text": [
      "Mean # Tokens: 24\n",
      "# Examples: 73700\n",
      "90 %-ile # Tokens: 41\n",
      "99 %-ile # Tokens: 62\n",
      "Saving to /Users/ethanperez/research_backup/data/hotpot-all.umt.comparison.paired.model=1.beam=16.lp=2.0.q-predsubqs-predsubas.ensemble_subas...\n",
      "Copying data...\n"
     ]
    },
    {
     "name": "stderr",
     "output_type": "stream",
     "text": [
      "100%|██████████| 7440/7440 [00:00<00:00, 12507.23it/s]\n"
     ]
    },
    {
     "name": "stdout",
     "output_type": "stream",
     "text": [
      "Mean # Tokens: 24\n",
      "# Examples: 73700\n",
      "90 %-ile # Tokens: 41\n",
      "99 %-ile # Tokens: 64\n",
      "Saving to /Users/ethanperez/research_backup/data/hotpot-all.umt.comparison.paired.model=1.beam=16.lp=2.0.q-predsubqs-predsubas.ensemble_subas...\n",
      "Copying data...\n"
     ]
    },
    {
     "name": "stderr",
     "output_type": "stream",
     "text": [
      "100%|██████████| 7440/7440 [00:00<00:00, 34743.75it/s]\n"
     ]
    },
    {
     "name": "stdout",
     "output_type": "stream",
     "text": [
      "Mean # Tokens: 24\n",
      "# Examples: 73700\n",
      "90 %-ile # Tokens: 41\n",
      "99 %-ile # Tokens: 64\n",
      "Saving to /Users/ethanperez/research_backup/data/hotpot-all.umt.comparison.paired.model=1.beam=16.lp=2.0.q-predsubqs-predsubas.ensemble_subas...\n",
      "Copying data...\n"
     ]
    },
    {
     "name": "stderr",
     "output_type": "stream",
     "text": [
      "100%|██████████| 7440/7440 [00:00<00:00, 35085.91it/s]\n"
     ]
    },
    {
     "name": "stdout",
     "output_type": "stream",
     "text": [
      "Mean # Tokens: 24\n",
      "# Examples: 73700\n",
      "90 %-ile # Tokens: 41\n",
      "99 %-ile # Tokens: 64\n",
      "Saving to /Users/ethanperez/research_backup/data/hotpot-all.umt.comparison.paired.model=1.beam=16.lp=2.0.q-predsubqs-predsubas.ensemble_subas...\n",
      "Copying data...\n"
     ]
    },
    {
     "name": "stderr",
     "output_type": "stream",
     "text": [
      "100%|██████████| 7440/7440 [00:00<00:00, 35475.33it/s]\n"
     ]
    },
    {
     "name": "stdout",
     "output_type": "stream",
     "text": [
      "Mean # Tokens: 24\n",
      "# Examples: 73700\n",
      "90 %-ile # Tokens: 41\n",
      "99 %-ile # Tokens: 64\n",
      "Saving to /Users/ethanperez/research_backup/data/hotpot-all.umt.comparison.paired.model=1.beam=16.lp=2.0.q-predsubqs-predsubas.ensemble_subas...\n",
      "Copying data...\n"
     ]
    },
    {
     "name": "stderr",
     "output_type": "stream",
     "text": [
      "100%|██████████| 7440/7440 [00:00<00:00, 34785.08it/s]\n"
     ]
    },
    {
     "name": "stdout",
     "output_type": "stream",
     "text": [
      "Mean # Tokens: 24\n",
      "# Examples: 73700\n",
      "90 %-ile # Tokens: 42\n",
      "99 %-ile # Tokens: 64\n",
      "Saving to /Users/ethanperez/research_backup/data/hotpot-all.umt.comparison.paired.model=1.beam=16.lp=2.0.q-predsubqs-predsubas.ensemble_subas...\n",
      "Copying data...\n"
     ]
    },
    {
     "name": "stderr",
     "output_type": "stream",
     "text": [
      "100%|██████████| 7440/7440 [00:00<00:00, 32307.10it/s]\n"
     ]
    },
    {
     "name": "stdout",
     "output_type": "stream",
     "text": [
      "Mean # Tokens: 25\n",
      "# Examples: 73700\n",
      "90 %-ile # Tokens: 42\n",
      "99 %-ile # Tokens: 64\n",
      "Saving to /Users/ethanperez/research_backup/data/hotpot-all.umt.comparison.paired.model=1.beam=16.lp=2.0.q-predsubqs-predsubas.ensemble_subas...\n",
      "Copying data...\n"
     ]
    },
    {
     "name": "stderr",
     "output_type": "stream",
     "text": [
      "100%|██████████| 7440/7440 [00:00<00:00, 32834.61it/s]\n"
     ]
    },
    {
     "name": "stdout",
     "output_type": "stream",
     "text": [
      "Mean # Tokens: 25\n",
      "# Examples: 73700\n",
      "90 %-ile # Tokens: 42\n",
      "99 %-ile # Tokens: 64\n",
      "Saving to /Users/ethanperez/research_backup/data/hotpot-all.umt.comparison.paired.model=1.beam=16.lp=2.0.q-predsubqs-predsubas.ensemble_subas...\n",
      "Copying data...\n"
     ]
    },
    {
     "name": "stderr",
     "output_type": "stream",
     "text": [
      "100%|██████████| 7440/7440 [00:00<00:00, 29892.25it/s]\n"
     ]
    },
    {
     "name": "stdout",
     "output_type": "stream",
     "text": [
      "Mean # Tokens: 24\n",
      "# Examples: 73700\n",
      "90 %-ile # Tokens: 41\n",
      "99 %-ile # Tokens: 62\n",
      "Saving to /Users/ethanperez/research_backup/data/hotpot-all.umt.comparison.paired.model=1.beam=16.lp=2.0.q-predsubqs-predsubas.ensemble_subas...\n",
      "Copying data...\n"
     ]
    },
    {
     "name": "stderr",
     "output_type": "stream",
     "text": [
      "100%|██████████| 7440/7440 [00:00<00:00, 12462.49it/s]\n"
     ]
    },
    {
     "name": "stdout",
     "output_type": "stream",
     "text": [
      "Mean # Tokens: 24\n",
      "# Examples: 73700\n",
      "90 %-ile # Tokens: 41\n",
      "99 %-ile # Tokens: 62\n",
      "Saving to /Users/ethanperez/research_backup/data/hotpot-all.umt.comparison.paired.model=1.beam=16.lp=2.0.q-predsubqs-predsubas.ensemble_subas...\n",
      "Copying data...\n"
     ]
    },
    {
     "name": "stderr",
     "output_type": "stream",
     "text": [
      "100%|██████████| 7440/7440 [00:00<00:00, 35019.21it/s]\n"
     ]
    },
    {
     "name": "stdout",
     "output_type": "stream",
     "text": [
      "Mean # Tokens: 24\n",
      "# Examples: 73700\n",
      "90 %-ile # Tokens: 41\n",
      "99 %-ile # Tokens: 64\n",
      "Saving to /Users/ethanperez/research_backup/data/hotpot-all.umt.comparison.paired.model=1.beam=16.lp=2.0.q-predsubqs-predsubas.ensemble_subas...\n",
      "Copying data...\n"
     ]
    },
    {
     "name": "stderr",
     "output_type": "stream",
     "text": [
      "100%|██████████| 7440/7440 [00:00<00:00, 34303.92it/s]\n"
     ]
    },
    {
     "name": "stdout",
     "output_type": "stream",
     "text": [
      "Mean # Tokens: 24\n",
      "# Examples: 73700\n",
      "90 %-ile # Tokens: 41\n",
      "99 %-ile # Tokens: 64\n",
      "Saving to /Users/ethanperez/research_backup/data/hotpot-all.umt.comparison.paired.model=1.beam=16.lp=2.0.q-predsubqs-predsubas.ensemble_subas...\n",
      "Copying data...\n"
     ]
    },
    {
     "name": "stderr",
     "output_type": "stream",
     "text": [
      "100%|██████████| 7440/7440 [00:00<00:00, 35148.91it/s]\n"
     ]
    },
    {
     "name": "stdout",
     "output_type": "stream",
     "text": [
      "Mean # Tokens: 24\n",
      "# Examples: 73700\n",
      "90 %-ile # Tokens: 42\n",
      "99 %-ile # Tokens: 64\n",
      "Saving to /Users/ethanperez/research_backup/data/hotpot-all.umt.comparison.paired.model=1.beam=16.lp=2.0.q-predsubqs-predsubas.ensemble_subas...\n",
      "Copying data...\n"
     ]
    },
    {
     "name": "stderr",
     "output_type": "stream",
     "text": [
      "100%|██████████| 7440/7440 [00:00<00:00, 34375.19it/s]\n"
     ]
    },
    {
     "name": "stdout",
     "output_type": "stream",
     "text": [
      "Mean # Tokens: 24\n",
      "# Examples: 73700\n",
      "90 %-ile # Tokens: 41\n",
      "99 %-ile # Tokens: 64\n",
      "Saving to /Users/ethanperez/research_backup/data/hotpot-all.umt.comparison.paired.model=1.beam=16.lp=2.0.q-predsubqs-predsubas.ensemble_subas...\n",
      "Copying data...\n"
     ]
    },
    {
     "name": "stderr",
     "output_type": "stream",
     "text": [
      "100%|██████████| 7440/7440 [00:00<00:00, 33832.51it/s]\n"
     ]
    },
    {
     "name": "stdout",
     "output_type": "stream",
     "text": [
      "Mean # Tokens: 24\n",
      "# Examples: 73700\n",
      "90 %-ile # Tokens: 42\n",
      "99 %-ile # Tokens: 64\n",
      "Saving to /Users/ethanperez/research_backup/data/hotpot-all.umt.comparison.paired.model=1.beam=16.lp=2.0.q-predsubqs-predsubas.ensemble_subas...\n",
      "Copying data...\n"
     ]
    },
    {
     "name": "stderr",
     "output_type": "stream",
     "text": [
      "100%|██████████| 7440/7440 [00:00<00:00, 34136.55it/s]\n"
     ]
    },
    {
     "name": "stdout",
     "output_type": "stream",
     "text": [
      "Mean # Tokens: 25\n",
      "# Examples: 73700\n",
      "90 %-ile # Tokens: 42\n",
      "99 %-ile # Tokens: 65\n",
      "Saving to /Users/ethanperez/research_backup/data/hotpot-all.umt.comparison.paired.model=1.beam=16.lp=2.0.q-predsubqs-predsubas.ensemble_subas...\n",
      "Copying data...\n"
     ]
    },
    {
     "name": "stderr",
     "output_type": "stream",
     "text": [
      "100%|██████████| 7440/7440 [00:00<00:00, 30824.17it/s]\n"
     ]
    },
    {
     "name": "stdout",
     "output_type": "stream",
     "text": [
      "Mean # Tokens: 25\n",
      "# Examples: 73700\n",
      "90 %-ile # Tokens: 42\n",
      "99 %-ile # Tokens: 64\n",
      "Saving to /Users/ethanperez/research_backup/data/hotpot-all.umt.comparison.paired.model=1.beam=16.lp=2.0.q-predsubqs-predsubas.ensemble_subas...\n",
      "Copying data...\n"
     ]
    },
    {
     "name": "stderr",
     "output_type": "stream",
     "text": [
      "100%|██████████| 7440/7440 [00:00<00:00, 11618.45it/s]\n"
     ]
    },
    {
     "name": "stdout",
     "output_type": "stream",
     "text": [
      "Mean # Tokens: 25\n",
      "# Examples: 73700\n",
      "90 %-ile # Tokens: 42\n",
      "99 %-ile # Tokens: 64\n",
      "Saving to /Users/ethanperez/research_backup/data/hotpot-all.umt.comparison.paired.model=1.beam=16.lp=2.0.q-predsubqs-predsubas.ensemble_subas...\n"
     ]
    }
   ],
   "source": [
    "for si in range(10):\n",
    "    for sj in range(10):\n",
    "        suba_rank = [si, sj]\n",
    "        use_subq = True\n",
    "        use_suba = True\n",
    "        skip_qtypes = ['b', 'i', 'o']\n",
    "        limitsubqs = True\n",
    "\n",
    "        q_start = '//'\n",
    "        a_start = '/'\n",
    "        skip_qtypes.sort()\n",
    "\n",
    "        assert use_subq or use_suba, 'Adding no sub-Qs or sub-As. Are you sure?'\n",
    "        question_augmenteds = []\n",
    "        print('Copying data...')\n",
    "        data_copy = deepcopy(data)\n",
    "        for split in data_copy.keys():\n",
    "            for article_no in tqdm(range(len(data_copy[split]['data']))):\n",
    "                for paragraph_no in range(len(data_copy[split]['data'][article_no]['paragraphs'])):\n",
    "                    if '_id' not in data_copy[split]['data'][article_no]['paragraphs'][paragraph_no]:\n",
    "                        continue  # SQuAD question: skip\n",
    "                    qid = data_copy[split]['data'][article_no]['paragraphs'][paragraph_no]['_id']\n",
    "                    for qa_no in range(len(data_copy[split]['data'][article_no]['paragraphs'][paragraph_no]['qas'])):\n",
    "                        question_augmented = data_copy[split]['data'][article_no]['paragraphs'][paragraph_no]['qas'][qa_no]['question'].strip()\n",
    "                        if use_suba and ('o' not in skip_qtypes):\n",
    "                            question_augmented += ' ' + a_start + ' ' + subas[qid]['o'][0].strip()\n",
    "                        for qtype in {'b', 'i', 'c'}:\n",
    "                            if (qtype not in skip_qtypes) and (qid in subqs) and (qtype in subqs[qid]):\n",
    "                                if limitsubqs and ('c' in subqs[qid]) and (qtype in {'b', 'i'}):\n",
    "                                    print('Limited!')\n",
    "                                    continue  # don't add b/i subqs if there's a c decomposition\n",
    "                                for subq_no, (subq, suba) in enumerate(zip(subqs[qid][qtype], subas[qid][qtype])):\n",
    "                                    if use_subq:\n",
    "                                        question_augmented += ' ' + q_start + ' ' + subq.strip()\n",
    "                                    if use_suba and (len(suba) > suba_rank[subq_no]):\n",
    "                                        question_augmented += ' ' + a_start + ' ' + suba[suba_rank[subq_no]]['text'].strip()\n",
    "                                        data_copy[split]['data'][article_no]['paragraphs'][paragraph_no]['qas'][qa_no]['probability_subas'] = data_copy[split]['data'][article_no]['paragraphs'][paragraph_no]['qas'][qa_no].get('probability_subas', [])\n",
    "                                        data_copy[split]['data'][article_no]['paragraphs'][paragraph_no]['qas'][qa_no]['probability_subas'].append(suba[suba_rank[subq_no]]['probability'])\n",
    "                        data_copy[split]['data'][article_no]['paragraphs'][paragraph_no]['qas'][qa_no]['question'] = question_augmented\n",
    "                        question_augmenteds.append(question_augmented)\n",
    "                    \n",
    "        qlens = []\n",
    "        for question_augmented in question_augmenteds:\n",
    "            qlens.append(len(question_augmented.split()))\n",
    "        qlens = np.array(qlens)\n",
    "        print('Mean # Tokens:', int(round(1.2 * qlens.mean())))\n",
    "        print('# Examples:', len(qlens))\n",
    "\n",
    "        qlens.sort()\n",
    "        print('90 %-ile # Tokens:', int(round(1.2 * qlens[int(.9 * qlens.size)])))\n",
    "        print('99 %-ile # Tokens:', int(round(1.2 * qlens[int(.99 * qlens.size)])))\n",
    "\n",
    "        input_name = 'q'\n",
    "        if use_subq:\n",
    "            input_name += '-predsubqs'\n",
    "        if use_suba:\n",
    "            input_name += '-predsubas'\n",
    "\n",
    "        save_dir = f'{subqs_dir}.{input_name}.ensemble_subas'\n",
    "        print(f'Saving to {save_dir}...')\n",
    "        os.makedirs(save_dir, exist_ok=True)\n",
    "        for split in splits:\n",
    "            with open(f'{save_dir}/{split}.suba1={suba_rank[0]}.suba2={suba_rank[1]}.json', 'w') as f:\n",
    "                json.dump(data_copy[split], f, indent=2)"
   ]
  },
  {
   "cell_type": "code",
   "execution_count": null,
   "metadata": {},
   "outputs": [],
   "source": []
  },
  {
   "cell_type": "code",
   "execution_count": null,
   "metadata": {},
   "outputs": [],
   "source": [
    "### Generate (subset of) comparison-only Q's"
   ]
  },
  {
   "cell_type": "code",
   "execution_count": 7,
   "metadata": {},
   "outputs": [
    {
     "name": "stdout",
     "output_type": "stream",
     "text": [
      "num_comp_qs: {'train': 17435}\n"
     ]
    }
   ],
   "source": [
    "data_copy = deepcopy(data)\n",
    "num_comp_qs = {}\n",
    "comp_data = {}\n",
    "for split in ['train']:\n",
    "    num_comp_qs[split] = 0\n",
    "    comp_data[split] = {'data': [], 'version': data_copy[split]['version']}\n",
    "    for article in data_copy[split]['data']:\n",
    "        is_comp_paragraph = False\n",
    "        for paragraph in article['paragraphs']:\n",
    "            if paragraph.get('_id') in subas_c_qids:\n",
    "                is_comp_paragraph = True\n",
    "                break\n",
    "        if is_comp_paragraph:\n",
    "            comp_data[split]['data'].append(article)\n",
    "            num_comp_qs[split] += 1\n",
    "print('num_comp_qs:', num_comp_qs)"
   ]
  },
  {
   "cell_type": "code",
   "execution_count": 9,
   "metadata": {},
   "outputs": [
    {
     "name": "stdout",
     "output_type": "stream",
     "text": [
      "Saving to /Users/ethanperez/research/data/hotpot-all.comparison-only.num-train=17435...\n"
     ]
    }
   ],
   "source": [
    "save_dir = f'{DATA_DIR}/hotpot-all'\n",
    "comp_save_dir = f'{save_dir}.comparison-only.num-train=' + str(num_comp_qs['train'])\n",
    "print(f'Saving to {comp_save_dir}...')\n",
    "os.makedirs(comp_save_dir, exist_ok=False)\n",
    "for split in splits:\n",
    "    with open(f'{comp_save_dir}/{split}.json', 'w') as f:\n",
    "        json.dump((comp_data if split == 'train' else data_copy)[split], f, indent=2)"
   ]
  },
  {
   "cell_type": "code",
   "execution_count": 20,
   "metadata": {},
   "outputs": [
    {
     "name": "stdout",
     "output_type": "stream",
     "text": [
      "Train Comp Qs remaining: 272\n"
     ]
    }
   ],
   "source": [
    "shuffled_qidxs_train = list(range(num_comp_qs['train']))\n",
    "random.Random(42).shuffle(shuffled_qidxs_train)\n",
    "train_data_frac = .015625\n",
    "\n",
    "train_qidxs_subset = set(shuffled_qidxs_train[:round(len(shuffled_qidxs_train) * train_data_frac)])\n",
    "\n",
    "num_comp_qs_filtered = {}\n",
    "comp_data = {}\n",
    "for split in ['train']:\n",
    "    num_comp_qs_filtered[split] = 0\n",
    "    comp_data[split] = {'data': [], 'version': data_copy[split]['version']}\n",
    "    for article in data_copy[split]['data']:\n",
    "        is_comp_paragraph = False\n",
    "        for paragraph in article['paragraphs']:\n",
    "            if paragraph.get('_id') in subas_c_qids:\n",
    "                is_comp_paragraph = True\n",
    "                break\n",
    "        if is_comp_paragraph:\n",
    "            if num_comp_qs_filtered[split] in train_qidxs_subset:\n",
    "                comp_data[split]['data'].append(article)\n",
    "            num_comp_qs_filtered[split] += 1\n",
    "print('Train Comp Qs remaining:', len(comp_data['train']['data']))"
   ]
  },
  {
   "cell_type": "code",
   "execution_count": 21,
   "metadata": {},
   "outputs": [
    {
     "name": "stdout",
     "output_type": "stream",
     "text": [
      "Saving to /Users/ethanperez/research/data/hotpot-all.comparison-only.num-train=272...\n"
     ]
    }
   ],
   "source": [
    "comp_save_dir = f'{save_dir}.comparison-only.num-train=' + str(len(comp_data['train']['data']))\n",
    "print(f'Saving to {comp_save_dir}...')\n",
    "os.makedirs(comp_save_dir, exist_ok=False)\n",
    "for split in splits:\n",
    "    with open(f'{comp_save_dir}/{split}.json', 'w') as f:\n",
    "        json.dump((comp_data if split == 'train' else data_copy)[split], f, indent=2)"
   ]
  },
  {
   "cell_type": "code",
   "execution_count": null,
   "metadata": {},
   "outputs": [],
   "source": []
  }
 ],
 "metadata": {
  "kernelspec": {
   "display_name": "Python 3",
   "language": "python",
   "name": "python3"
  },
  "language_info": {
   "codemirror_mode": {
    "name": "ipython",
    "version": 3
   },
   "file_extension": ".py",
   "mimetype": "text/x-python",
   "name": "python",
   "nbconvert_exporter": "python",
   "pygments_lexer": "ipython3",
   "version": "3.6.8"
  }
 },
 "nbformat": 4,
 "nbformat_minor": 2
}
