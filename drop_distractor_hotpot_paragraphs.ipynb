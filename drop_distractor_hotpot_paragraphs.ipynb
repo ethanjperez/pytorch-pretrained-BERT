{
 "cells": [
  {
   "cell_type": "code",
   "execution_count": 1,
   "metadata": {},
   "outputs": [],
   "source": [
    "import json\n",
    "import numpy as np\n",
    "import os\n",
    "import pandas as pd\n",
    "import simplejson\n",
    "import string\n",
    "from copy import deepcopy\n",
    "from pprint import pprint\n",
    "from tqdm import tqdm\n",
    "import random\n",
    "import matplotlib.pyplot as plt\n",
    "import re\n",
    "\n",
    "DATA_DIR = '{}/research/data'.format(os.getenv('HOME'))\n",
    "seed = 42\n",
    "shuffler = random.Random(seed)\n",
    "\n",
    "num_distractor_paragraphs = 1"
   ]
  },
  {
   "cell_type": "code",
   "execution_count": 5,
   "metadata": {},
   "outputs": [
    {
     "ename": "FileNotFoundError",
     "evalue": "[Errno 2] No such file or directory: '/Users/ethanperez/research/data/hotpot-squad/hotpot_train_v1.json'",
     "output_type": "error",
     "traceback": [
      "\u001b[0;31m---------------------------------------------------------------------------\u001b[0m",
      "\u001b[0;31mFileNotFoundError\u001b[0m                         Traceback (most recent call last)",
      "\u001b[0;32m<ipython-input-5-22ef172b9adc>\u001b[0m in \u001b[0;36m<module>\u001b[0;34m\u001b[0m\n\u001b[1;32m      1\u001b[0m \u001b[0;31m# Drop passages only on train\u001b[0m\u001b[0;34m\u001b[0m\u001b[0;34m\u001b[0m\u001b[0m\n\u001b[0;32m----> 2\u001b[0;31m \u001b[0;32mwith\u001b[0m \u001b[0mopen\u001b[0m\u001b[0;34m(\u001b[0m\u001b[0;34m'{}/hotpot-squad/hotpot_train_v1.json'\u001b[0m\u001b[0;34m.\u001b[0m\u001b[0mformat\u001b[0m\u001b[0;34m(\u001b[0m\u001b[0mDATA_DIR\u001b[0m\u001b[0;34m)\u001b[0m\u001b[0;34m)\u001b[0m \u001b[0;32mas\u001b[0m \u001b[0mf\u001b[0m\u001b[0;34m:\u001b[0m\u001b[0;34m\u001b[0m\u001b[0m\n\u001b[0m\u001b[1;32m      3\u001b[0m     \u001b[0mdata\u001b[0m \u001b[0;34m=\u001b[0m \u001b[0mjson\u001b[0m\u001b[0;34m.\u001b[0m\u001b[0mloads\u001b[0m\u001b[0;34m(\u001b[0m\u001b[0mf\u001b[0m\u001b[0;34m)\u001b[0m\u001b[0;34m\u001b[0m\u001b[0m\n",
      "\u001b[0;31mFileNotFoundError\u001b[0m: [Errno 2] No such file or directory: '/Users/ethanperez/research/data/hotpot-squad/hotpot_train_v1.json'"
     ]
    }
   ],
   "source": [
    "# Drop passages only on train\n",
    "with open('{}/hotpot-squad/hotpot_train_v1.json'.format(DATA_DIR)) as f:\n",
    "    data = json.loads(f)"
   ]
  },
  {
   "cell_type": "code",
   "execution_count": 3,
   "metadata": {},
   "outputs": [
    {
     "name": "stderr",
     "output_type": "stream",
     "text": [
      "100%|██████████| 90889/90889 [00:01<00:00, 80148.47it/s]\n"
     ]
    }
   ],
   "source": [
    "data_new = deepcopy(data)\n",
    "for example_no in tqdm(range(len(data_new['data']))):\n",
    "    if '_id' not in data_new['data'][example_no]['paragraphs'][0]:\n",
    "        continue # Don't modify SQuAD questions\n",
    "    gold_paragraphs = []\n",
    "    distractor_paragraphs = []\n",
    "    for paragraph in data_new['data'][example_no]['paragraphs']:\n",
    "        if len(paragraph['qas'][0]['answers']) > 0:\n",
    "            gold_paragraphs.append(paragraph)\n",
    "        else:\n",
    "            distractor_paragraphs.append(paragraph)\n",
    "    shuffler.shuffle(distractor_paragraphs)\n",
    "    data_new['data'][example_no]['paragraphs'] = gold_paragraphs + distractor_paragraphs[:num_distractor_paragraphs]"
   ]
  },
  {
   "cell_type": "code",
   "execution_count": 4,
   "metadata": {},
   "outputs": [],
   "source": [
    "save_dir = '{}/hotpot-squad-distractors={}'.format(DATA_DIR, num_distractor_paragraphs)\n",
    "os.makedirs(save_dir, exist_ok=True)\n",
    "with open('{}/hotpot_train_v1.json'.format(save_dir), 'w') as f:\n",
    "    json.dump(data_new, f, indent=2)\n",
    "with open('{}/hotpot-squad/hotpot_train_v1.json'.format(DATA_DIR), 'r') as f:\n",
    "    data_dev = json.load(f)\n",
    "with open('{}/hotpot_dev_distractor_v1.json'.format(save_dir), 'w') as f:\n",
    "    json.dump(data_dev, f, indent=2)"
   ]
  },
  {
   "cell_type": "code",
   "execution_count": null,
   "metadata": {},
   "outputs": [],
   "source": []
  }
 ],
 "metadata": {
  "kernelspec": {
   "display_name": "Python 3",
   "language": "python",
   "name": "python3"
  },
  "language_info": {
   "codemirror_mode": {
    "name": "ipython",
    "version": 3
   },
   "file_extension": ".py",
   "mimetype": "text/x-python",
   "name": "python",
   "nbconvert_exporter": "python",
   "pygments_lexer": "ipython3",
   "version": "3.6.2+"
  }
 },
 "nbformat": 4,
 "nbformat_minor": 2
}
