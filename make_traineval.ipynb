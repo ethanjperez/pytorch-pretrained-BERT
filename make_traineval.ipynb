{
 "cells": [
  {
   "cell_type": "code",
   "execution_count": 1,
   "metadata": {},
   "outputs": [
    {
     "name": "stdout",
     "output_type": "stream",
     "text": [
      "hotpot-squad-q-predsubqs-predsubas-no-co\n"
     ]
    }
   ],
   "source": [
    "import argparse\n",
    "import simplejson as json\n",
    "import os\n",
    "import random\n",
    "from tqdm import tqdm\n",
    "\n",
    "seed = 42\n",
    "home_dir = os.getenv('HOME')\n",
    "num_traineval = 7000\n",
    "frac_traineval = num_traineval / 90447\n",
    "\n",
    "# parser = argparse.ArgumentParser()\n",
    "# parser.add_argument(\"--save_folder\", default='hotpot-squad-q-subqs-subas', type=str)\n",
    "# args = parser.parse_args()\n",
    "# save_folder = args.save_folder\n",
    "save_folder = 'hotpot-squad-q-predsubqs-predsubas-no-co'\n",
    "print(save_folder)\n",
    "\n",
    "with open(home_dir + '/research/data/hotpot-orig/train.json') as f:\n",
    "    train = json.load(f)\n",
    "\n",
    "qids = [example['_id'] for example in train]\n",
    "shuffler = random.Random(seed)\n",
    "shuffler.shuffle(qids)\n",
    "assert qids[0] == '5abed9f45542994516f4545a', 'Unexpected QID after seeded random shuffle'\n",
    "traineval_qids = set(qids[:num_traineval])"
   ]
  },
  {
   "cell_type": "code",
   "execution_count": 2,
   "metadata": {},
   "outputs": [],
   "source": [
    "# # One-time: Saving new gold file\n",
    "# traineval = [example for example in train if example['_id'] in traineval_qids]\n",
    "# with open('/Users/ethanperez/research/data/hotpot-orig/traineval.json', 'w') as f:\n",
    "#     json.dump(traineval, f, indent=2)"
   ]
  },
  {
   "cell_type": "code",
   "execution_count": 3,
   "metadata": {},
   "outputs": [
    {
     "name": "stderr",
     "output_type": "stream",
     "text": [
      "100%|██████████| 442/442 [00:00<00:00, 988737.26it/s]"
     ]
    },
    {
     "name": "stdout",
     "output_type": "stream",
     "text": [
      "num_traineval_squad_titles: 34\n"
     ]
    },
    {
     "name": "stderr",
     "output_type": "stream",
     "text": [
      "\n"
     ]
    }
   ],
   "source": [
    "with open(home_dir + '/research/data/squad/train.json') as f:\n",
    "    squad = json.load(f)\n",
    "\n",
    "squad_titles = []\n",
    "for article in tqdm(squad['data']):\n",
    "    squad_titles.append(article['title'])\n",
    "\n",
    "squad_shuffler = random.Random(seed)\n",
    "squad_shuffler.shuffle(squad_titles)\n",
    "assert squad_titles[0] == 'Asphalt', 'Unexpected title after seeded random shuffle'\n",
    "num_traineval_squad_titles = int(round(len(squad_titles) * frac_traineval))\n",
    "print('num_traineval_squad_titles:', num_traineval_squad_titles)\n",
    "traineval_squad_titles = set(squad_titles[:num_traineval_squad_titles])"
   ]
  },
  {
   "cell_type": "code",
   "execution_count": 4,
   "metadata": {},
   "outputs": [],
   "source": [
    "# One-time: Saving new gold file\n",
    "squad_traineval = {\n",
    "    'data': [article for article in squad['data'] if article['title'] in traineval_squad_titles],\n",
    "    'version': squad['version']\n",
    "}\n",
    "with open(home_dir + '/research/data/squad/traineval.json', 'w') as f:\n",
    "    json.dump(squad_traineval, f, indent=2)"
   ]
  },
  {
   "cell_type": "code",
   "execution_count": 5,
   "metadata": {},
   "outputs": [],
   "source": [
    "with open(home_dir + '/research/data/' + save_folder + '/train.json') as f:\n",
    "    data = json.load(f)"
   ]
  },
  {
   "cell_type": "code",
   "execution_count": 6,
   "metadata": {},
   "outputs": [
    {
     "name": "stderr",
     "output_type": "stream",
     "text": [
      "100%|██████████| 90889/90889 [00:00<00:00, 719195.59it/s]"
     ]
    },
    {
     "name": "stdout",
     "output_type": "stream",
     "text": [
      "num articles 7034\n"
     ]
    },
    {
     "name": "stderr",
     "output_type": "stream",
     "text": [
      "\n"
     ]
    }
   ],
   "source": [
    "assert None not in traineval_qids\n",
    "new_data = {\n",
    "    'version': data['version'],\n",
    "    'data': []\n",
    "}\n",
    "for article in tqdm(data['data']):\n",
    "    if (article['paragraphs'][0].get('_id') in traineval_qids) or \\\n",
    "        (('_id' not in article['paragraphs'][0]) and (article['title'] in traineval_squad_titles)):\n",
    "        new_data['data'].append(article)\n",
    "print('num articles', len(new_data['data']))  # should be 7000 (hotpot) + 34 (squad)"
   ]
  },
  {
   "cell_type": "code",
   "execution_count": 7,
   "metadata": {},
   "outputs": [],
   "source": [
    "with open(home_dir + '/research/data/' + save_folder + '/traineval.json', 'w') as f:\n",
    "    json.dump(new_data, f, indent=2)"
   ]
  },
  {
   "cell_type": "code",
   "execution_count": null,
   "metadata": {},
   "outputs": [],
   "source": []
  }
 ],
 "metadata": {
  "kernelspec": {
   "display_name": "Python 3",
   "language": "python",
   "name": "python3"
  },
  "language_info": {
   "codemirror_mode": {
    "name": "ipython",
    "version": 3
   },
   "file_extension": ".py",
   "mimetype": "text/x-python",
   "name": "python",
   "nbconvert_exporter": "python",
   "pygments_lexer": "ipython3",
   "version": "3.6.2+"
  }
 },
 "nbformat": 4,
 "nbformat_minor": 2
}
