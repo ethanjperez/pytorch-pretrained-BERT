{
 "cells": [
  {
   "cell_type": "code",
   "execution_count": 2,
   "metadata": {
    "scrolled": false
   },
   "outputs": [],
   "source": [
    "import json\n",
    "import numpy as np\n",
    "import os\n",
    "import pandas as pd\n",
    "import string\n",
    "from copy import deepcopy\n",
    "from pprint import pprint\n",
    "from tqdm import tqdm\n",
    "import random\n",
    "import matplotlib.pyplot as plt\n",
    "\n",
    "DATA_DIR = '{}/research/data'.format(os.getenv('HOME'))\n",
    "seed = 42"
   ]
  },
  {
   "cell_type": "code",
   "execution_count": null,
   "metadata": {},
   "outputs": [],
   "source": [
    "decomp_type = 'decom-bridge'  # 'decom-bridge', 'decom-intersec', 'onehop'\n",
    "split = 'dev'  # 'train', 'dev'\n",
    "\n",
    "# filepath = 'out/scorer/dev_class_scores.json'\n",
    "filepath = 'out/' + decomp_type + '/' + split + '_predictions.json'\n",
    "\n",
    "with open(filepath, 'r') as f:\n",
    "    data = json.load(f)\n",
    "\n",
    "key = list(data.keys())[3]\n",
    "pprint(data[key])"
   ]
  },
  {
   "cell_type": "code",
   "execution_count": null,
   "metadata": {},
   "outputs": [],
   "source": [
    "labeled_ids = {}\n",
    "for decomp_type in ['bridge', 'intersec']:\n",
    "    labeled_ids[decomp_type] = {}\n",
    "    for split in ['train', 'dev']:\n",
    "        filepath = 'data/decomposition-data/decomposition-' + decomp_type + '-' + split + '-v1.json'\n",
    "\n",
    "        with open(filepath, 'r') as f:\n",
    "            data = json.load(f)\n",
    "\n",
    "        labeled_ids[decomp_type][split] = [i['id'] for i in data['data']]\n",
    "        print(decomp_type, split, len(labeled_ids[decomp_type][split]))"
   ]
  },
  {
   "cell_type": "code",
   "execution_count": null,
   "metadata": {},
   "outputs": [],
   "source": [
    "for labeled_id in labeled_ids[decomp_type.replace('decom-', '')][split]:\n",
    "    print(data[labeled_id])"
   ]
  },
  {
   "cell_type": "code",
   "execution_count": null,
   "metadata": {
    "scrolled": false
   },
   "outputs": [],
   "source": [
    "# WTQ\n",
    "split = 'test'  # {'train', 'test'}\n",
    "wtq_split = 'pristine-unseen-tables' if split == 'test' else 'training'\n",
    "\n",
    "df_subq = pd.read_csv('/Users/ethanperez/research/data/sqa/{}.tsv'.format(split), delimiter='\\t', encoding='utf-8')\n",
    "df_q = pd.read_csv('/Users/ethanperez/research/data/WikiTableQuestions/data/{}.tsv'.format(wtq_split), delimiter='\\t', encoding='utf-8')\n",
    "\n",
    "qids_with_subqs = list(set(df_subq['id']))\n",
    "qids_with_subqs.sort()\n",
    "\n",
    "examples = []\n",
    "for qid in tqdm(qids_with_subqs):\n",
    "    qid = qid.replace('ns', 'nt')\n",
    "    assert len(df_q[df_q.id == qid].utterance.values) > 0, 'Invalid QID: {}'.format(qid)\n",
    "    q = df_q[df_q.id == qid].utterance.values[0]\n",
    "    df_subq_qid = df_subq[df_subq.id == qid]\n",
    "    annotators = list(set(df_subq_qid.annotator))\n",
    "    annotators.sort()\n",
    "    for annotator in annotators:\n",
    "        df_subq_qid_annotator = df_subq_qid[df_subq_qid.annotator == annotator]\n",
    "        positions = list(set(df_subq_qid_annotator.position))\n",
    "        positions.sort()\n",
    "        subqs = [df_subq_qid_annotator[df_subq_qid_annotator.position == position].question.values[0].strip() for position in positions]\n",
    "        example = ' '.join([q] + subqs).strip()\n",
    "        examples.append(example)\n",
    "\n",
    "print('Finished processing {} examples!'.format(len(examples)))\n",
    "print('{:.4f} annotations per questions'.format(len(examples) / len(qids_with_subqs)))"
   ]
  },
  {
   "cell_type": "code",
   "execution_count": null,
   "metadata": {},
   "outputs": [],
   "source": [
    "df_q"
   ]
  },
  {
   "cell_type": "code",
   "execution_count": null,
   "metadata": {},
   "outputs": [],
   "source": [
    "shuffler = random.Random(4)\n",
    "\n",
    "x = [1,2,3,4,5,6]\n",
    "shuffler.shuffle(x)\n",
    "print(x)\n",
    "\n",
    "x = [1,2,3,4,5,6]\n",
    "shuffler.shuffle(x)\n",
    "print(x)"
   ]
  },
  {
   "cell_type": "code",
   "execution_count": null,
   "metadata": {
    "scrolled": true
   },
   "outputs": [],
   "source": [
    "split = 'train'\n",
    "\n",
    "shuffler = random.Random(seed)\n",
    "\n",
    "DATA_DIR = '{}/research/data'.format(os.getenv('HOME'))\n",
    "file_path = '{}/squad/{}-v2.0.json'.format(DATA_DIR, split)\n",
    "\n",
    "with open(file_path, 'r') as f:\n",
    "    data_squad = json.load(f)\n",
    "\n",
    "titles = []\n",
    "qs_squad = []\n",
    "qs_answerable_squad = []\n",
    "ps_squad = []\n",
    "quit_loop = False\n",
    "for article in tqdm(data_squad['data']):\n",
    "    titles.append(article['title'])\n",
    "    for paragraph in article['paragraphs']:\n",
    "        qs_squad += [qa['question'].strip().lower() for qa in paragraph['qas']]\n",
    "        qs_answerable_squad += [qa['question'].strip().lower() for qa in paragraph['qas'] if not qa['is_impossible']]\n",
    "        if len(qs_squad) != len(qs_answerable_squad):\n",
    "            quit_loop = True\n",
    "            pprint(article)\n",
    "            break\n",
    "        ps_squad.append(paragraph['context'].lower().replace(' ', ''))\n",
    "    if quit_loop:\n",
    "        break\n",
    "print(len(qs_squad))\n",
    "print(len(qs_answerable_squad))"
   ]
  },
  {
   "cell_type": "code",
   "execution_count": null,
   "metadata": {},
   "outputs": [],
   "source": []
  },
  {
   "cell_type": "code",
   "execution_count": 6,
   "metadata": {},
   "outputs": [],
   "source": [
    "split = 'train'\n",
    "file_path = '{}/hotpot-orig/hotpot_{}_v1.json'.format(DATA_DIR, split)\n",
    "with open(file_path, 'r') as f:\n",
    "    data_hotpot = json.load(f)"
   ]
  },
  {
   "cell_type": "code",
   "execution_count": 14,
   "metadata": {},
   "outputs": [
    {
     "name": "stdout",
     "output_type": "stream",
     "text": [
      "17.818401937046005\n",
      "[  3.   3.   4. ... 104. 106. 108.]\n",
      "(array([33115, 42031, 10062,  2736,  1548,   609,   248,    68,    19,\n",
      "          11]), array([  3. ,  13.5,  24. ,  34.5,  45. ,  55.5,  66. ,  76.5,  87. ,\n",
      "        97.5, 108. ]))\n"
     ]
    }
   ],
   "source": [
    "# Print Q length statistics\n",
    "q_lens = np.array([])\n",
    "for example in data_hotpot:\n",
    "    q_lens = np.append(q_lens, len(example['question'].strip().split()))\n",
    "print(q_lens.mean())\n",
    "q_lens.sort()\n",
    "print(q_lens)\n",
    "print(np.histogram(q_lens, bins=10))\n",
    "for i in range(50):\n",
    "    print(i, '{0:.2f}'.format(float((q_lens <= i).mean())))"
   ]
  },
  {
   "cell_type": "code",
   "execution_count": 4,
   "metadata": {},
   "outputs": [
    {
     "ename": "TypeError",
     "evalue": "list indices must be integers or slices, not str",
     "output_type": "error",
     "traceback": [
      "\u001b[0;31m---------------------------------------------------------------------------\u001b[0m",
      "\u001b[0;31mTypeError\u001b[0m                                 Traceback (most recent call last)",
      "\u001b[0;32m<ipython-input-4-bad8c6f181b6>\u001b[0m in \u001b[0;36m<module>\u001b[0;34m\u001b[0m\n\u001b[1;32m      1\u001b[0m \u001b[0mtitles_hotpot\u001b[0m \u001b[0;34m=\u001b[0m \u001b[0;34m[\u001b[0m\u001b[0;34m]\u001b[0m\u001b[0;34m\u001b[0m\u001b[0m\n\u001b[1;32m      2\u001b[0m \u001b[0mqs_hotpot\u001b[0m \u001b[0;34m=\u001b[0m \u001b[0;34m[\u001b[0m\u001b[0;34m]\u001b[0m\u001b[0;34m\u001b[0m\u001b[0m\n\u001b[0;32m----> 3\u001b[0;31m \u001b[0;32mfor\u001b[0m \u001b[0marticle\u001b[0m \u001b[0;32min\u001b[0m \u001b[0mdata_hotpot\u001b[0m\u001b[0;34m[\u001b[0m\u001b[0;34m'data'\u001b[0m\u001b[0;34m]\u001b[0m\u001b[0;34m:\u001b[0m\u001b[0;34m\u001b[0m\u001b[0m\n\u001b[0m\u001b[1;32m      4\u001b[0m     \u001b[0;32mfor\u001b[0m \u001b[0mparagraph\u001b[0m \u001b[0;32min\u001b[0m \u001b[0marticle\u001b[0m\u001b[0;34m[\u001b[0m\u001b[0;34m'paragraphs'\u001b[0m\u001b[0;34m]\u001b[0m\u001b[0;34m:\u001b[0m\u001b[0;34m\u001b[0m\u001b[0m\n\u001b[1;32m      5\u001b[0m         \u001b[0mtitles_hotpot\u001b[0m\u001b[0;34m.\u001b[0m\u001b[0mappend\u001b[0m\u001b[0;34m(\u001b[0m\u001b[0mparagraph\u001b[0m\u001b[0;34m[\u001b[0m\u001b[0;34m'title'\u001b[0m\u001b[0;34m]\u001b[0m\u001b[0;34m.\u001b[0m\u001b[0mstrip\u001b[0m\u001b[0;34m(\u001b[0m\u001b[0;34m)\u001b[0m\u001b[0;34m)\u001b[0m\u001b[0;34m\u001b[0m\u001b[0m\n",
      "\u001b[0;31mTypeError\u001b[0m: list indices must be integers or slices, not str"
     ]
    }
   ],
   "source": [
    "titles_hotpot = []\n",
    "qs_hotpot = []\n",
    "for article in data_hotpot['data']:\n",
    "    for paragraph in article['paragraphs']:\n",
    "        titles_hotpot.append(paragraph['title'].strip())\n",
    "        for qa in paragraph['qas']:\n",
    "            qs_hotpot.append(qa['question'].strip())"
   ]
  },
  {
   "cell_type": "code",
   "execution_count": null,
   "metadata": {
    "scrolled": false
   },
   "outputs": [],
   "source": [
    "num_over_max_len = 0\n",
    "max_len = 256\n",
    "\n",
    "num_index_errors = 0\n",
    "supporting_sents = []\n",
    "for example in data_hotpot:\n",
    "    question_words = example['question'].split(' ')\n",
    "    example_supporting_sents = []\n",
    "    gold_paragraph_over_max_len = False\n",
    "    for sf_title, sf_sent_index in example['supporting_facts']:\n",
    "        for context_title, context_sents in example['context']:\n",
    "            if context_title == sf_title:\n",
    "                if sf_sent_index >= len(context_sents):\n",
    "                    num_index_errors += 1\n",
    "                    continue\n",
    "                example_supporting_sents.append(context_sents[sf_sent_index])\n",
    "                gold_paragraph_words = (' '.join(context_sents)).split(' ')\n",
    "                input_len = len(question_words) + len(gold_paragraph_words)\n",
    "                if input_len > max_len:\n",
    "                    gold_paragraph_over_max_len = True\n",
    "                break\n",
    "\n",
    "    num_over_max_len += gold_paragraph_over_max_len\n",
    "    supporting_sents.append(example_supporting_sents)\n",
    "\n",
    "print(num_over_max_len, num_index_errors)"
   ]
  },
  {
   "cell_type": "code",
   "execution_count": null,
   "metadata": {},
   "outputs": [],
   "source": [
    "data_hotpot[1]['question']"
   ]
  },
  {
   "cell_type": "code",
   "execution_count": null,
   "metadata": {},
   "outputs": [],
   "source": [
    "matching_ps = 0\n",
    "for supporting_sent_set in tqdm(supporting_sents):\n",
    "    for supporting_sent in supporting_sent_set:\n",
    "        supporting_sent_lower_alpha_only = lower_alpha_only(supporting_sent)\n",
    "        if supporting_sent_lower_alpha_only[:30] in ps_lower_alpha_only:\n",
    "            matching_ps += 1\n",
    "            print(matching_ps)\n",
    "print(matching_ps)"
   ]
  },
  {
   "cell_type": "code",
   "execution_count": null,
   "metadata": {},
   "outputs": [],
   "source": []
  },
  {
   "cell_type": "code",
   "execution_count": null,
   "metadata": {},
   "outputs": [],
   "source": [
    "'wefa,23roagg-3  2..'.translate(str.maketrans('', '', string.punctuation)).replace(' ', '')"
   ]
  },
  {
   "cell_type": "code",
   "execution_count": null,
   "metadata": {},
   "outputs": [],
   "source": [
    "def lower_alpha_only(text):\n",
    "    return ''.join(list(filter(lambda x: x.isalpha(), text))).lower()"
   ]
  },
  {
   "cell_type": "code",
   "execution_count": null,
   "metadata": {},
   "outputs": [],
   "source": [
    "ps_lower_alpha_only = lower_alpha_only(''.join(ps))"
   ]
  },
  {
   "cell_type": "code",
   "execution_count": null,
   "metadata": {},
   "outputs": [],
   "source": [
    "lower_alpha_only('wefa,23roagg-3  2..')"
   ]
  },
  {
   "cell_type": "code",
   "execution_count": null,
   "metadata": {},
   "outputs": [],
   "source": [
    "num_over_max_len = 0\n",
    "max_len = 300\n",
    "for example_hotpot in data_hotpot:\n",
    "    question_words = example_hotpot['question'].split(' ')\n",
    "    for title, paragraph in example_hotpot['context']:\n",
    "        paragraph_words = (' '.join(paragraph)).split(' ')\n",
    "        input_len = len(question_words) + len(paragraph_words)\n",
    "        if input_len > max_len:\n",
    "            num_over_max_len += 1\n",
    "print(num_over_max_len)"
   ]
  },
  {
   "cell_type": "code",
   "execution_count": null,
   "metadata": {},
   "outputs": [],
   "source": [
    "qtypes = {}\n",
    "\n",
    "for data in data_hotpot:\n",
    "    if data['level'] != 'easy':\n",
    "        qtypes[data['type']] = qtypes.get(data['type'], 0) + 1\n",
    "\n",
    "print(qtypes)"
   ]
  },
  {
   "cell_type": "code",
   "execution_count": null,
   "metadata": {
    "scrolled": true
   },
   "outputs": [],
   "source": [
    "for i, data in enumerate(data_hotpot):\n",
    "    if i == 1000:\n",
    "        break\n",
    "    elif data['type'] == 'comparison':\n",
    "        print(data['question'])\n",
    "    "
   ]
  },
  {
   "cell_type": "code",
   "execution_count": null,
   "metadata": {},
   "outputs": [],
   "source": [
    "with open('/Users/ethanperez/research/data/hotpot-all/train.json', 'r') as f:\n",
    "    data_hotpot_all = json.load(f)\n",
    "print(len(data_hotpot_all))"
   ]
  },
  {
   "cell_type": "code",
   "execution_count": null,
   "metadata": {},
   "outputs": [],
   "source": [
    "data_hotpot_all['data'][0]"
   ]
  },
  {
   "cell_type": "code",
   "execution_count": null,
   "metadata": {},
   "outputs": [],
   "source": [
    "for i in range(10):\n",
    "    print(data_hotpot_all['data'][i]['paragraphs'][0]['qas'][0]['answers'])"
   ]
  },
  {
   "cell_type": "code",
   "execution_count": null,
   "metadata": {},
   "outputs": [],
   "source": [
    "with open('/Users/ethanperez/research/DecompRC/DecompRC/out/hotpot/test_nbest_predictions.json', 'r') as f:\n",
    "    subq_pred_answers = json.load(f)"
   ]
  },
  {
   "cell_type": "code",
   "execution_count": null,
   "metadata": {
    "scrolled": false
   },
   "outputs": [],
   "source": [
    "for subqid, prediction in subq_pred_answers.items():\n",
    "    pprint(subqid)\n",
    "    pprint(prediction)\n",
    "    break\n",
    "#     title, answers = prediction\n",
    "#     if answers[0] != 'None':\n",
    "#         print(answers[0])"
   ]
  },
  {
   "cell_type": "code",
   "execution_count": null,
   "metadata": {},
   "outputs": [],
   "source": [
    "with open('/Users/ethanperez/research/DecompRC/DecompRC/data/hotpot-all/test.json', 'r') as f:\n",
    "    subqs = json.load(f)"
   ]
  },
  {
   "cell_type": "code",
   "execution_count": null,
   "metadata": {},
   "outputs": [],
   "source": [
    "pprint(subqs)"
   ]
  },
  {
   "cell_type": "code",
   "execution_count": null,
   "metadata": {
    "scrolled": true
   },
   "outputs": [],
   "source": [
    "num_answerable = 0\n",
    "for qa in subqs['data'][0]['paragraphs'][0]['qas']:\n",
    "    top_answer = subq_pred_answers[qa['id']][0]\n",
    "    print(qa['question'], top_answer['text'], top_answer['probability'], top_answer['logit'], top_answer['no_answer_logit'])\n",
    "    if (top_answer['logit'] - 3.) > top_answer['no_answer_logit']:\n",
    "        num_answerable += 1\n",
    "#     if qa['id'] == '5a7a06935542990198eaf050-1':\n",
    "#         print(qa)\n",
    "#         break\n",
    "print(num_answerable)"
   ]
  },
  {
   "cell_type": "code",
   "execution_count": null,
   "metadata": {
    "scrolled": true
   },
   "outputs": [],
   "source": [
    "subqs['data'][0]['paragraphs'][0]['context']"
   ]
  },
  {
   "cell_type": "code",
   "execution_count": null,
   "metadata": {
    "scrolled": true
   },
   "outputs": [],
   "source": [
    "nl_subqs_dir = '/Users/ethanperez/research/data/decomposition-data-nq-version'\n",
    "\n",
    "data = {}\n",
    "for nl_subqs_filepath in os.listdir(nl_subqs_dir):\n",
    "    if nl_subqs_filepath == 'human_sub_questions_bridge.json':\n",
    "        continue\n",
    "    with open(os.path.join(nl_subqs_dir, nl_subqs_filepath), 'r') as f:\n",
    "        new_data = json.load(f)\n",
    "    print(nl_subqs_filepath, len(new_data), 'examples!')\n",
    "    data.update(new_data)\n",
    "# pprint(data)"
   ]
  },
  {
   "cell_type": "code",
   "execution_count": null,
   "metadata": {},
   "outputs": [],
   "source": [
    "with open(os.path.join(nl_subqs_dir, 'human_sub_questions_bridge.json'), 'r') as f:\n",
    "    human_subqs = json.load(f)\n",
    "pprint(human_subqs)"
   ]
  },
  {
   "cell_type": "code",
   "execution_count": null,
   "metadata": {},
   "outputs": [],
   "source": [
    "num_subqs = []\n",
    "for qid, q in human_subqs.items():\n",
    "    num_subqs.append(len(q['sub-questions']))\n",
    "num_subqs = np.array(num_subqs)\n",
    "print(num_subqs.mean())"
   ]
  },
  {
   "cell_type": "code",
   "execution_count": null,
   "metadata": {},
   "outputs": [],
   "source": [
    "(num_subqs == 2).sum()"
   ]
  },
  {
   "cell_type": "code",
   "execution_count": null,
   "metadata": {},
   "outputs": [],
   "source": [
    "len(data)"
   ]
  },
  {
   "cell_type": "code",
   "execution_count": null,
   "metadata": {},
   "outputs": [],
   "source": [
    "sum([200, 200, 152, 66])"
   ]
  },
  {
   "cell_type": "code",
   "execution_count": null,
   "metadata": {
    "scrolled": true
   },
   "outputs": [],
   "source": [
    "for qid, q in data.items():\n",
    "    print('{}\\n  1) {}\\n  2) {}'.format(q['question'].capitalize(), q['subquestion1'].capitalize(), q['subquestion2'].capitalize()))"
   ]
  },
  {
   "cell_type": "code",
   "execution_count": null,
   "metadata": {},
   "outputs": [],
   "source": [
    "os.listdir(nl_subqs_dir)"
   ]
  },
  {
   "cell_type": "code",
   "execution_count": null,
   "metadata": {},
   "outputs": [],
   "source": []
  },
  {
   "cell_type": "code",
   "execution_count": null,
   "metadata": {},
   "outputs": [],
   "source": [
    "# Get IDs for each data split\n",
    "hotpot_splits = ['train', 'dev_distractor', 'dev_fullwiki', 'test_fullwiki']\n",
    "ids = {}\n",
    "for split in hotpot_splits:\n",
    "    file_path = '{}/hotpot-orig/hotpot_{}_v1.json'.format(DATA_DIR, split)\n",
    "    with open(file_path, 'r') as f:\n",
    "        data = json.load(f)\n",
    "    ids[split] = set([example['_id'] for example in data])"
   ]
  },
  {
   "cell_type": "code",
   "execution_count": null,
   "metadata": {},
   "outputs": [],
   "source": [
    "with open('/Users/ethanperez/research/data/decomposition-data-nq-version/rulebased.json', 'r') as f:\n",
    "    comparison_subqs = json.load(f)"
   ]
  },
  {
   "cell_type": "code",
   "execution_count": null,
   "metadata": {},
   "outputs": [],
   "source": [
    "# Find which Q's are from which split\n",
    "num_qs = {split: 0 for split in hotpot_splits}\n",
    "\n",
    "for qid, subq in comparison_subqs.items():\n",
    "    for split in hotpot_splits:\n",
    "        if qid in ids[split]:\n",
    "            num_qs[split] += 1\n",
    "pprint(num_qs)"
   ]
  },
  {
   "cell_type": "code",
   "execution_count": null,
   "metadata": {},
   "outputs": [],
   "source": [
    "pprint(comparison_subqs)"
   ]
  },
  {
   "cell_type": "code",
   "execution_count": null,
   "metadata": {},
   "outputs": [],
   "source": [
    "with open('/Users/ethanperez/research/data/hotpot/test.json', 'r') as f:\n",
    "    hotpot_orig_subqs_dev = json.load(f)"
   ]
  },
  {
   "cell_type": "code",
   "execution_count": null,
   "metadata": {},
   "outputs": [],
   "source": []
  },
  {
   "cell_type": "code",
   "execution_count": null,
   "metadata": {},
   "outputs": [],
   "source": [
    "with open('/Users/ethanperez/research/data/decomposed-predictions/comparison_decomposed_generated_predictions.json') as f:\n",
    "    all_data = json.load(f)"
   ]
  },
  {
   "cell_type": "code",
   "execution_count": null,
   "metadata": {
    "scrolled": false
   },
   "outputs": [],
   "source": [
    "for example in all_data['data']:\n",
    "    qas = example['paragraphs'][0]['qas']\n",
    "    if (len(qas) > 0) and (qas[0]['level'] == 'subquestion'):\n",
    "        pprint(example['paragraphs'][0])"
   ]
  },
  {
   "cell_type": "code",
   "execution_count": null,
   "metadata": {
    "scrolled": false
   },
   "outputs": [],
   "source": [
    "with open('{}/hotpot-all/{}.json'.format('/Users/ethanperez/research/data', 'train')) as f:\n",
    "    full_data = json.load(f)\n",
    "\n",
    "id_to_qtype = {}\n",
    "comparison_qids = set([])\n",
    "for example in full_data['data']:\n",
    "    qa = example['paragraphs'][0]['qas'][0]\n",
    "    id_to_qtype[qa['id']] = qa['type']\n",
    "    if qa['type'] == 'comparison':\n",
    "        comparison_qids.add(qa['id'])"
   ]
  },
  {
   "cell_type": "code",
   "execution_count": null,
   "metadata": {},
   "outputs": [],
   "source": [
    "len(comparison_qids)"
   ]
  },
  {
   "cell_type": "code",
   "execution_count": null,
   "metadata": {},
   "outputs": [],
   "source": [
    "dict(filter(lambda k, v: id_to_qtype[k] == 'comparison', }))"
   ]
  },
  {
   "cell_type": "code",
   "execution_count": null,
   "metadata": {},
   "outputs": [],
   "source": [
    "{qid: qinfo for qid, qinfo in {'5a70f0e75542994082a3e408': 1, '5a70eee85542994082a3e3f0': 2}.items() if id_to_qtype[qid] == 'comparison'}"
   ]
  },
  {
   "cell_type": "code",
   "execution_count": null,
   "metadata": {},
   "outputs": [],
   "source": [
    "id_set_len_sum = 0\n",
    "ids = set([])\n",
    "for i in range(10):\n",
    "    with open('/Users/ethanperez/research/pytorch-pretrained-BERT/data/decomposed-predictions/comparison_decomposed_dev_generations.num_shards=10.shard_no={}.json'.format(i), 'r') as f:\n",
    "        data = json.load(f)\n",
    "    id_set = set([])\n",
    "    for example in data['data']:\n",
    "        id_set.add(example['paragraphs'][0]['qas'][0]['id'])\n",
    "    print(len(id_set))\n",
    "    id_set_len_sum += len(id_set)\n",
    "    ids = ids.union(id_set)\n",
    "print(len(ids), id_set_len_sum)"
   ]
  },
  {
   "cell_type": "code",
   "execution_count": null,
   "metadata": {
    "scrolled": false
   },
   "outputs": [],
   "source": [
    "split = 'dev'\n",
    "num_shards = 100 if split == 'train' else 10\n",
    "\n",
    "data = {'data': []}\n",
    "for shard_no in range(num_shards):\n",
    "    with open('/Users/ethanperez/research/data/decomposed-predictions/comparison_decomposed_{}_generations.num_shards={}.shard_no={}.json'.format(split, num_shards, shard_no), 'r') as f:\n",
    "        data['data'].append(json.load(f)['data'])\n",
    "pprint(data['data'][::1000])"
   ]
  },
  {
   "cell_type": "code",
   "execution_count": null,
   "metadata": {},
   "outputs": [],
   "source": [
    "with open('/Users/ethanperez/research/data/hotpot-orig/hotpot_train_v1.json', 'r') as f:\n",
    "    hotpot_orig = json.load(f)"
   ]
  },
  {
   "cell_type": "code",
   "execution_count": null,
   "metadata": {
    "scrolled": true
   },
   "outputs": [],
   "source": [
    "a_sep = 'A'\n",
    "q_sep = 'Q'\n",
    "\n",
    "def format_text(text):\n",
    "    return text.lower()\n",
    "\n",
    "examples = []\n",
    "missing_sfs = 0\n",
    "for example in hotpot_orig:\n",
    "    example_supporting_sents = []\n",
    "    prev_sf_title = ''\n",
    "    prev_sf_sent_index = -1\n",
    "    for sf_title, sf_sent_index in example['supporting_facts']:\n",
    "        for context_title, context_sents in example['context']:\n",
    "            if context_title == sf_title:\n",
    "                if sf_sent_index >= len(context_sents):\n",
    "                    missing_sfs += 1\n",
    "                    continue\n",
    "                if sf_title == prev_sf_title:\n",
    "                    if sf_sent_index == (prev_sf_sent_index + 1):\n",
    "                        prepend = ''\n",
    "                    else:\n",
    "                        prepend = '... '\n",
    "                else:\n",
    "                    prepend = '[' + sf_title.strip() + '] '\n",
    "                example_supporting_sents.append(prepend + context_sents[sf_sent_index].strip())\n",
    "        prev_sf_title = sf_title\n",
    "        prev_sf_sent_index = sf_sent_index\n",
    "    example_text_input = format_text(' '.join([example['question'].strip()] + example_supporting_sents))\n",
    "    example_text = example_text_input + ' ' + a_sep + ' ' + format_text(example['answer']) + ' ' + q_sep\n",
    "    examples.append(example_text)\n",
    "    print(example_text)\n",
    "    break\n",
    "print('missing_sfs', missing_sfs)"
   ]
  },
  {
   "cell_type": "code",
   "execution_count": null,
   "metadata": {},
   "outputs": [],
   "source": [
    "prev_sf_title = ''"
   ]
  },
  {
   "cell_type": "code",
   "execution_count": null,
   "metadata": {},
   "outputs": [],
   "source": [
    "DATA_DIR = '{}/research/data'.format(os.getenv('HOME'))\n",
    "split = 'train'\n",
    "task_name = 'hotpotqa-recomposition-supporting-fact'\n",
    "examples = []\n"
   ]
  },
  {
   "cell_type": "code",
   "execution_count": null,
   "metadata": {},
   "outputs": [],
   "source": [
    "if os.path.exists(save_filename):\n",
    "    with open(save_filename, 'r') as f:\n",
    "        examples = json.load(f)\n",
    "else:\n",
    "    save_filename = '{}/hotpot-orig/{}.{}.json'.format(DATA_DIR, task_name, split)\n",
    "    with open(save_filename, 'w') as f:\n",
    "        json.dump(examples, f)"
   ]
  },
  {
   "cell_type": "code",
   "execution_count": null,
   "metadata": {},
   "outputs": [],
   "source": [
    "examples"
   ]
  },
  {
   "cell_type": "code",
   "execution_count": null,
   "metadata": {},
   "outputs": [],
   "source": [
    "[] * 2"
   ]
  },
  {
   "cell_type": "code",
   "execution_count": null,
   "metadata": {
    "scrolled": true
   },
   "outputs": [],
   "source": [
    "# SimpleQuestions: Read Q's\n",
    "with open('/Users/ethanperez/research/data/SimpleQuestions_v2/annotated_fb_data_valid.txt', 'r') as f:\n",
    "    lines = f.readlines()\n",
    "\n",
    "lines = [line.split('\\t') for line in lines]\n",
    "for line in lines:\n",
    "    print(line[-1])"
   ]
  },
  {
   "cell_type": "code",
   "execution_count": null,
   "metadata": {},
   "outputs": [],
   "source": []
  },
  {
   "cell_type": "code",
   "execution_count": null,
   "metadata": {},
   "outputs": [],
   "source": [
    "for example in data_hotpot:\n",
    "    pprint(example)\n",
    "    break"
   ]
  },
  {
   "cell_type": "code",
   "execution_count": null,
   "metadata": {},
   "outputs": [],
   "source": []
  },
  {
   "cell_type": "code",
   "execution_count": null,
   "metadata": {},
   "outputs": [],
   "source": [
    "with open('{}/research/data/hotpot-all/q-subqs-subas.split=train.{}.json'.format(os.getenv('HOME'), base_name), 'r') as f:\n",
    "    q_subqs_subas_train = json.load(f)\n",
    "\n",
    "with open('{}/research/data/hotpot-all/q-subqs-subas.split=trainslice.{}.json'.format(os.getenv('HOME'), base_name), 'w') as f:\n",
    "    json.dump({'data': q_subqs_subas_train['data'][:64]}, f)\n",
    "# q_subqs_subas_trainslice = {'data': q_subqs_subas_train['data'][:64]}"
   ]
  },
  {
   "cell_type": "code",
   "execution_count": null,
   "metadata": {},
   "outputs": [],
   "source": [
    "'{}/research/data/hotpot-all/q-subqs-subas.split=train.{}.json'.format(os.getenv('HOME'), base_name)"
   ]
  },
  {
   "cell_type": "code",
   "execution_count": null,
   "metadata": {},
   "outputs": [],
   "source": [
    "q_subqs_subas_train['data'][0]['paragraphs'][0]['qas']"
   ]
  },
  {
   "cell_type": "code",
   "execution_count": null,
   "metadata": {},
   "outputs": [],
   "source": []
  },
  {
   "cell_type": "code",
   "execution_count": null,
   "metadata": {},
   "outputs": [],
   "source": [
    "split = 'dev'\n",
    "file_path = '{}/hotpot-all/{}.json'.format(DATA_DIR, split)\n",
    "with open(file_path, 'r') as f:\n",
    "    data_hotpot = json.load(f)"
   ]
  },
  {
   "cell_type": "code",
   "execution_count": null,
   "metadata": {},
   "outputs": [],
   "source": [
    "num_context_words = []\n",
    "for article in data_hotpot['data']:\n",
    "    for example in article['paragraphs']:\n",
    "        for answer, para in zip(example['qas'][0]['answers'], example['context']):\n",
    "            num_context_words.append(len(para.split()))\n",
    "            if len(answer) > 0:\n",
    "                answer = answer[0]\n",
    "                answer_start = answer['answer_start']\n",
    "                answer_end = answer_start + len(answer['text'])\n",
    "                answer_text_from_span = para[answer_start: answer_end]\n",
    "                if answer['text'] not in ['yes', 'no']:\n",
    "                    assert answer['text'] == answer_text_from_span, '{} != {}'.format(answer['text'], answer_text_from_span)\n",
    "num_context_words = np.array(num_context_words)\n",
    "print(num_context_words.mean())"
   ]
  },
  {
   "cell_type": "code",
   "execution_count": null,
   "metadata": {},
   "outputs": [],
   "source": [
    "(num_context_words > 300).sum()"
   ]
  },
  {
   "cell_type": "code",
   "execution_count": null,
   "metadata": {},
   "outputs": [],
   "source": [
    "num_context_words.shape"
   ]
  },
  {
   "cell_type": "code",
   "execution_count": null,
   "metadata": {},
   "outputs": [],
   "source": [
    "for answer, para in zip(example['qas'][0]['answers'], example['context']):\n",
    "    if len(answer) > 0:\n",
    "        answer = answer[0]\n",
    "        answer_start = answer['answer_start']\n",
    "        answer_end = answer_start + len(answer['text'])\n",
    "        answer_text_from_span = para[answer_start: answer_end]\n",
    "        assert answer['text'] == answer_text_from_span"
   ]
  },
  {
   "cell_type": "code",
   "execution_count": null,
   "metadata": {},
   "outputs": [],
   "source": [
    "para[3:4]"
   ]
  },
  {
   "cell_type": "code",
   "execution_count": null,
   "metadata": {},
   "outputs": [],
   "source": [
    "para[: answer['answer_start'] + len(answer['text'])]"
   ]
  },
  {
   "cell_type": "code",
   "execution_count": null,
   "metadata": {},
   "outputs": [],
   "source": []
  },
  {
   "cell_type": "code",
   "execution_count": null,
   "metadata": {},
   "outputs": [],
   "source": [
    "### Write train slice of SQuAD (article with fewest questions)\n",
    "with open('/Users/ethanperez/research/data/squad/train-v2.0.json', 'r') as f:\n",
    "    squad = json.load(f)"
   ]
  },
  {
   "cell_type": "code",
   "execution_count": null,
   "metadata": {},
   "outputs": [],
   "source": [
    "def count_qas(data):\n",
    "    num_qas = 0\n",
    "    for article in data['data']:\n",
    "        for para in article['paragraphs']:\n",
    "            for qa in para['qas']:\n",
    "                num_qas += 1\n",
    "    return num_qas\n",
    "\n",
    "min_num_qas = count_qas(squad)\n",
    "squad_tiny = None\n",
    "for i in range(len(squad['data'])):\n",
    "    squad_tiny_tmp = {'data': [squad['data'][i]]}\n",
    "    num_qas = count_qas(squad_tiny_tmp)\n",
    "    if num_qas < min_num_qas:\n",
    "        print(i, num_qas)\n",
    "        squad_tiny = squad_tiny_tmp\n",
    "        min_num_qas = num_qas"
   ]
  },
  {
   "cell_type": "code",
   "execution_count": null,
   "metadata": {},
   "outputs": [],
   "source": [
    "with open('/Users/ethanperez/research/data/squad/trainslice-v2.0.json', 'w') as f:\n",
    "    f.write(json.dumps(squad_tiny, indent=2, sort_keys=False))"
   ]
  },
  {
   "cell_type": "code",
   "execution_count": null,
   "metadata": {},
   "outputs": [],
   "source": []
  },
  {
   "cell_type": "code",
   "execution_count": null,
   "metadata": {},
   "outputs": [],
   "source": [
    "### Write train slice of SQuAD (article with fewest questions)\n",
    "with open('/Users/ethanperez/research/data/hotpot-all/train.json', 'r') as f:\n",
    "    hotpot = json.load(f)"
   ]
  },
  {
   "cell_type": "code",
   "execution_count": null,
   "metadata": {},
   "outputs": [],
   "source": [
    "with open('/Users/ethanperez/research/data/hotpot-all-slice/train.json', 'w') as f:\n",
    "    f.write(json.dumps({'data': hotpot['data'][:4]}, indent=2, sort_keys=False))\n",
    "with open('/Users/ethanperez/research/data/hotpot-all-slice/dev.json', 'w') as f:\n",
    "    f.write(json.dumps({'data': hotpot['data'][:4]}, indent=2, sort_keys=False))"
   ]
  },
  {
   "cell_type": "code",
   "execution_count": null,
   "metadata": {},
   "outputs": [],
   "source": [
    "{'data': hotpot['data'][:4]}"
   ]
  },
  {
   "cell_type": "code",
   "execution_count": null,
   "metadata": {
    "scrolled": false
   },
   "outputs": [],
   "source": [
    "num_answers_per_q = []\n",
    "for article in hotpot['data'][:100]:\n",
    "    for para in article['paragraphs']:\n",
    "        for qa in para['qas']:\n",
    "            num_answers = 0\n",
    "            for answer in qa['answers']:\n",
    "                if len(answer) > 0:\n",
    "                    num_answers += len(answer) > 0\n",
    "            num_answers_per_q.append(num_answers)\n",
    "num_answers_per_q = np.array(num_answers_per_q)\n",
    "print((num_answers_per_q == 0).mean())"
   ]
  },
  {
   "cell_type": "code",
   "execution_count": null,
   "metadata": {},
   "outputs": [],
   "source": [
    "### Write train slice of SQuAD (article with fewest questions)\n",
    "with open('/Users/ethanperez/research/data/hotpot-orig/hotpot_train_v1.json', 'r') as f:\n",
    "    hotpot_orig = json.load(f)"
   ]
  },
  {
   "cell_type": "code",
   "execution_count": null,
   "metadata": {
    "scrolled": true
   },
   "outputs": [],
   "source": [
    "# example_key = list(hotpot_orig.keys())[0]\n",
    "pprint(hotpot_orig[0])"
   ]
  },
  {
   "cell_type": "code",
   "execution_count": null,
   "metadata": {},
   "outputs": [],
   "source": [
    "qa['answers'][-2][0]['text']"
   ]
  },
  {
   "cell_type": "code",
   "execution_count": null,
   "metadata": {},
   "outputs": [],
   "source": []
  },
  {
   "cell_type": "code",
   "execution_count": null,
   "metadata": {},
   "outputs": [],
   "source": [
    "split = 'train'\n",
    "file_path = '{}/hotpot-orig/hotpot_{}_v1.json'.format(DATA_DIR, split)\n",
    "with open(file_path, 'r') as f:\n",
    "    data_hotpot = json.load(f)"
   ]
  },
  {
   "cell_type": "code",
   "execution_count": null,
   "metadata": {
    "scrolled": true
   },
   "outputs": [],
   "source": [
    "num_over_max_len = 0\n",
    "max_len = 256\n",
    "sf_sents_with_answer = []\n",
    "\n",
    "num_index_errors = 0\n",
    "supporting_sents = []\n",
    "for example in data_hotpot:\n",
    "    question_words = example['question'].split(' ')\n",
    "    example_supporting_sents = []\n",
    "    gold_paragraph_over_max_len = False\n",
    "    span_q = example['answer'].lower().strip() not in ['yes', 'no']\n",
    "    example_sf_sents_with_answer = 0\n",
    "    for sf_title, sf_sent_index in example['supporting_facts']:\n",
    "        for context_title, context_sents in example['context']:\n",
    "            if context_title == sf_title:\n",
    "                if sf_sent_index >= len(context_sents):\n",
    "                    num_index_errors += 1\n",
    "                    continue\n",
    "                sf_sent = context_sents[sf_sent_index]\n",
    "                example_supporting_sents.append(sf_sent)\n",
    "                \n",
    "                if span_q:\n",
    "                    example_sf_sents_with_answer += example['answer'] in sf_sent\n",
    "                \n",
    "                gold_paragraph_words = (' '.join(context_sents)).split(' ')\n",
    "                input_len = len(question_words) + len(gold_paragraph_words)\n",
    "                if input_len > max_len:\n",
    "                    gold_paragraph_over_max_len = True\n",
    "                break\n",
    "    if span_q:\n",
    "        sf_sents_with_answer.append(example_sf_sents_with_answer)\n",
    "#         if example_sf_sents_with_answer == 0:\n",
    "#             pprint(example)\n",
    "\n",
    "    num_over_max_len += gold_paragraph_over_max_len\n",
    "    supporting_sents.append(example_supporting_sents)\n",
    "\n",
    "sf_sents_with_answer = np.array(sf_sents_with_answer)\n",
    "print(num_over_max_len, num_index_errors)"
   ]
  },
  {
   "cell_type": "code",
   "execution_count": null,
   "metadata": {},
   "outputs": [],
   "source": [
    "(sf_sents_with_answer == 0).sum()"
   ]
  },
  {
   "cell_type": "code",
   "execution_count": null,
   "metadata": {},
   "outputs": [],
   "source": []
  },
  {
   "cell_type": "code",
   "execution_count": null,
   "metadata": {
    "scrolled": true
   },
   "outputs": [],
   "source": [
    "# Count # Q words in test set\n",
    "split = 'train'\n",
    "file_path = '{}/hotpot-orig/hotpot_{}_v1.json'.format(DATA_DIR, split)\n",
    "with open(file_path, 'r') as f:\n",
    "    data_hotpot = json.load(f)\n",
    "\n",
    "num_question_words = []\n",
    "for example in data_hotpot:\n",
    "    num_question_words.append(len(example['question'].strip().split()))\n",
    "    if num_question_words[-1] > 40:\n",
    "        print(example['question'])\n",
    "num_question_words = np.array(num_question_words)\n",
    "\n",
    "print(num_question_words.mean())\n",
    "num_question_words.sort()\n",
    "print(num_question_words[-100:])"
   ]
  },
  {
   "cell_type": "code",
   "execution_count": null,
   "metadata": {},
   "outputs": [],
   "source": []
  },
  {
   "cell_type": "code",
   "execution_count": null,
   "metadata": {},
   "outputs": [],
   "source": [
    "### Write train slice of SQuAD (article with fewest questions)\n",
    "with open('/Users/ethanperez/research/data/squad/train-v2.0.json', 'r') as f:\n",
    "    squad = json.load(f)"
   ]
  },
  {
   "cell_type": "code",
   "execution_count": null,
   "metadata": {},
   "outputs": [],
   "source": [
    "squad_num_question_words = []\n",
    "for article in squad['data']:\n",
    "    for para in article['paragraphs']:\n",
    "        for qa in para['qas']:\n",
    "            squad_num_question_words.append(len(qa['question'].strip().split()))\n",
    "squad_num_question_words = np.array(squad_num_question_words)\n",
    "print(squad_num_question_words.mean())\n",
    "squad_num_question_words.sort()\n",
    "squad_num_question_words[-100:]"
   ]
  },
  {
   "cell_type": "code",
   "execution_count": null,
   "metadata": {},
   "outputs": [],
   "source": []
  },
  {
   "cell_type": "code",
   "execution_count": null,
   "metadata": {},
   "outputs": [],
   "source": [
    "# Examining NBest Predictions file\n",
    "with open('/Users/ethanperez/research/pytorch-transformers/checkpoint/hotpot.bs=16.lr=0.00002.nte=4/nbest_predictions_.json', 'r') as f:\n",
    "    nbest_predictions = json.load(f)"
   ]
  },
  {
   "cell_type": "code",
   "execution_count": null,
   "metadata": {},
   "outputs": [],
   "source": [
    "nbest_predictions['5a8aee3d55429950cd6afc01.9']"
   ]
  },
  {
   "cell_type": "code",
   "execution_count": null,
   "metadata": {},
   "outputs": [],
   "source": [
    "# Count # Q words in test set\n",
    "split = 'dev_distractor'\n",
    "file_path = '{}/hotpot-orig/hotpot_{}_v1.json'.format(DATA_DIR, split)\n",
    "with open(file_path, 'r') as f:\n",
    "    data_hotpot = json.load(f)"
   ]
  },
  {
   "cell_type": "code",
   "execution_count": null,
   "metadata": {},
   "outputs": [],
   "source": [
    "data_hotpot"
   ]
  },
  {
   "cell_type": "code",
   "execution_count": null,
   "metadata": {},
   "outputs": [],
   "source": []
  },
  {
   "cell_type": "code",
   "execution_count": null,
   "metadata": {},
   "outputs": [],
   "source": [
    "# Add SQuAD 2.0 Q's to Hotpot Q's (all in SQuAD format)\n",
    "for split in ['train', 'dev_distractor']:\n",
    "    file_path = '{}/hotpot-slice/hotpot_{}_v1_slice.json'.format(DATA_DIR, split)\n",
    "    with open(file_path, 'r') as f:\n",
    "        data_hotpot = json.load(f)\n",
    "\n",
    "    with open('{}/squad-slice/{}-v2.0-slice.json'.format(DATA_DIR, split.replace('_distractor', '').replace('_fullwiki', '')), 'r') as f:\n",
    "        data_squad = json.load(f)\n",
    "\n",
    "    print('# articles before combining:', len(data_hotpot['data']), len(data_squad['data']))\n",
    "    data_hotpot['data'] += data_squad['data']\n",
    "    print('# articles after combining: ', len(data_hotpot['data']))\n",
    "\n",
    "    os.makedirs('{}/hotpot-squad-slice'.format(DATA_DIR), exist_ok=True)\n",
    "    with open('{}/hotpot-squad-slice/hotpot_{}_v1_slice.json'.format(DATA_DIR, split), 'w') as f:\n",
    "        f.write(json.dumps(data_hotpot, indent=2))"
   ]
  },
  {
   "cell_type": "code",
   "execution_count": null,
   "metadata": {},
   "outputs": [],
   "source": []
  },
  {
   "cell_type": "code",
   "execution_count": null,
   "metadata": {},
   "outputs": [],
   "source": [
    "split = 'dev_distractor'\n",
    "with open('{}/hotpot-squad/hotpot_{}_v1.json'.format(DATA_DIR, split), 'r') as f:\n",
    "    data_hotpot_squad = json.load(f)\n",
    "with open('{}/hotpot-all/q-subqs-subas.split={}.filter_name=bi-cond-lm.top_knn=10.max_mods_per_nn=4.json'.format(DATA_DIR, split.replace('_distractor', ''))) as f:\n",
    "    q_subqs_subas = json.load(f)"
   ]
  },
  {
   "cell_type": "code",
   "execution_count": null,
   "metadata": {
    "scrolled": false
   },
   "outputs": [],
   "source": [
    "for q_index, subq_example in enumerate(q_subqs_subas['data']):\n",
    "    example_q_subqs_subas = subq_example['paragraphs'][0]['qas'][0]['question']\n",
    "    qid = subq_example['paragraphs'][0]['qas'][0]['id']\n",
    "    pprint(example_q_subqs_subas)\n",
    "    print(qid)\n",
    "    for i in range(10):\n",
    "        subqid = qid + '.' + str(i)\n",
    "        assert qid == data_hotpot_squad['data'][q_index]['paragraphs'][i]['_id'], 'Error retrieving question with matching QID'\n",
    "        assert len(data_hotpot_squad['data'][q_index]['paragraphs'][i]['qas']) == 1, 'Unexpected # QAs'\n",
    "        pprint(data_hotpot_squad['data'][q_index]['paragraphs'][i]['qas'][0]['question'])\n",
    "    break\n"
   ]
  },
  {
   "cell_type": "code",
   "execution_count": null,
   "metadata": {},
   "outputs": [],
   "source": [
    "len(data_hotpot_squad['data'][0]['paragraphs'])"
   ]
  },
  {
   "cell_type": "code",
   "execution_count": null,
   "metadata": {},
   "outputs": [],
   "source": [
    "print(len(data_hotpot_squad['data']))\n",
    "print(len(q_subqs_subas['data']))"
   ]
  },
  {
   "cell_type": "code",
   "execution_count": null,
   "metadata": {},
   "outputs": [],
   "source": [
    "data_hotpot_squad['data'][0]"
   ]
  },
  {
   "cell_type": "code",
   "execution_count": null,
   "metadata": {},
   "outputs": [],
   "source": []
  },
  {
   "cell_type": "code",
   "execution_count": null,
   "metadata": {},
   "outputs": [],
   "source": []
  },
  {
   "cell_type": "code",
   "execution_count": null,
   "metadata": {},
   "outputs": [],
   "source": [
    "# Count # of words/Q in HotpotQA\n",
    "with open('/Users/ethanperez/research/data/hotpot/hotpot_train_v1.json', 'r') as f:\n",
    "    data_hotpot = json.load(f)"
   ]
  },
  {
   "cell_type": "code",
   "execution_count": null,
   "metadata": {},
   "outputs": [],
   "source": [
    "num_q_words = []\n",
    "for example in data_hotpot['data']:\n",
    "    for paragraph in example['paragraphs']:\n",
    "        for qa in paragraph['qas']:\n",
    "            num_q_words.append(len(qa['question'].strip().split()))\n",
    "num_q_words = np.array(num_q_words)\n",
    "print(num_q_words.mean())"
   ]
  },
  {
   "cell_type": "code",
   "execution_count": null,
   "metadata": {},
   "outputs": [],
   "source": []
  },
  {
   "cell_type": "code",
   "execution_count": 58,
   "metadata": {},
   "outputs": [],
   "source": [
    "# Read in DecompRC intermediate output questions/answers\n",
    "decomposition_predictions = {}\n",
    "for qtype in ['intersec', 'bridge']:\n",
    "    with open('/Users/ethanperez/research/data/decomposed-predictions/{}_decomposed_train_nbest_predictions.json'.format(qtype), 'r') as f:\n",
    "        decomposed_predictions[qtype] = json.load(f)"
   ]
  },
  {
   "cell_type": "code",
   "execution_count": 63,
   "metadata": {},
   "outputs": [
    {
     "data": {
      "text/plain": [
       "[{'evidence': \"<title> metrovías </title> metrovías s.a. is an argentine privately owned company that operates the buenos aires underground and the metropolitan services of @@ urquiza line. @@ 90% of metrovías' shares are held by grupo roggio. <title> tbilisi metro </title> the tbilisi metro (georgian: თბილისის მეტროპოლიტენი ) is a rapid transit metro system in tbilisi, georgia. opened on 11 december @@ 1966, @@ it was the fourth metro system in the former soviet union. like most ex-soviet metros, most of the stations are very deep and vividly decorated\",\n",
       "  'queries': 'metrovías operates which transit metro system  urquiza line  first opened in which year ?',\n",
       "  'text': '1966',\n",
       "  'logit': [56.189032554626465, 52.928449630737305]},\n",
       " {'evidence': \"<title> metrovías </title> metrovías s.a. is an argentine privately owned company that operates the buenos aires underground and the metropolitan services of @@ urquiza line. @@ 90% of metrovías' shares are held by grupo roggio. <title> metrorail (miami-dade county) </title> metrorail, colloquially called the metro, is the heavy rail rapid transit system of miami and miami-dade county, florida. metrorail is operated by miami-dade transit (mdt), a departmental agency of miami-dade county. opened in @@ 1984, @@ it is florida's only rapid transit metro system, and is currently composed of two lines of 23 stations on 24.4 mi of standard gauge track.\",\n",
       "  'queries': 'metrovías operates which transit metro system  urquiza line  first opened in which year ?',\n",
       "  'text': '1984',\n",
       "  'logit': [56.189032554626465, 48.60847043991089]},\n",
       " {'evidence': '<title> metrovías </title> metrovías s.a. is an argentine privately owned company that operates the buenos aires underground and the metropolitan services of @@ urquiza line. @@ 90% of metrovías\\' shares are held by grupo roggio. <title> buenos aires underground </title> the buenos aires underground (spanish: \"subterráneo de buenos aires\" ), locally known as subte (] , from \"subterráneo\" – \\'underground\\' or \\'subterranean\\'), is a mass transit metro system that serves the area of the city of buenos aires, argentina. the first section of this network (plaza de mayo-plaza miserere) opened in @@ 1913, @@ making it the 13th subway in the world, and first underground railway in latin america, the southern hemisphere and the spanish-speaking world, with the madrid metro opening five years later, in 1919. as of 2015, buenos aires is the only argentine city with a metro system, but there is a proposal to build a metro in the city of córdoba (the córdoba metro), while a proposal to build a metro in rosario was shelved in favour of a tramway network.',\n",
       "  'queries': 'metrovías operates which transit metro system  urquiza line  first opened in which year ?',\n",
       "  'text': '1913',\n",
       "  'logit': [56.189032554626465, 47.94956111907959]},\n",
       " {'evidence': '<title> buenos aires underground </title> the @@ buenos aires underground @@ (spanish: \"subterráneo de buenos aires\" ), locally known as subte (] , from \"subterráneo\" – \\'underground\\' or \\'subterranean\\'), is a mass transit metro system that serves the area of the city of buenos aires, argentina. the first section of this network (plaza de mayo-plaza miserere) opened in 1913, making it the 13th subway in the world, and first underground railway in latin america, the southern hemisphere and the spanish-speaking world, with the madrid metro opening five years later, in 1919. as of 2015, buenos aires is the only argentine city with a metro system, but there is a proposal to build a metro in the city of córdoba (the córdoba metro), while a proposal to build a metro in rosario was shelved in favour of a tramway network. <title> buenos aires underground </title> the buenos aires underground (spanish: \"subterráneo de buenos aires\" ), locally known as subte (] , from \"subterráneo\" – \\'underground\\' or \\'subterranean\\'), is a mass transit metro system that serves the area of the city of buenos aires, argentina. the first section of this network (plaza de mayo-plaza miserere) @@ opened in 1913, @@ making it the 13th subway in the world, and first underground railway in latin america, the southern hemisphere and the spanish-speaking world, with the madrid metro opening five years later, in 1919. as of 2015, buenos aires is the only argentine city with a metro system, but there is a proposal to build a metro in the city of córdoba (the córdoba metro), while a proposal to build a metro in rosario was shelved in favour of a tramway network.',\n",
       "  'queries': 'metrovías operates which transit metro system  buenos aires underground  first opened in which year ?',\n",
       "  'text': 'opened in 1913',\n",
       "  'logit': [55.158061504364014, 37.93953990936279]},\n",
       " {'evidence': '<title> tbilisi metro </title> the @@ tbilisi metro @@ (georgian: თბილისის მეტროპოლიტენი ) is a rapid transit metro system in tbilisi, georgia. opened on 11 december 1966, it was the fourth metro system in the former soviet union. like most ex-soviet metros, most of the stations are very deep and vividly decorated <title> tbilisi metro </title> the tbilisi metro (georgian: თბილისის მეტროპოლიტენი ) is a rapid transit metro system in tbilisi, georgia. @@ opened on 11 december 1966, @@ it was the fourth metro system in the former soviet union. like most ex-soviet metros, most of the stations are very deep and vividly decorated',\n",
       "  'queries': 'metrovías operates which transit metro system  tbilisi metro  first opened in which year ?',\n",
       "  'text': 'opened on 11 december 1966',\n",
       "  'logit': [55.91818141937256, 36.7892609834671]},\n",
       " {'evidence': '<title> buenos aires underground </title> the @@ buenos aires underground @@ (spanish: \"subterráneo de buenos aires\" ), locally known as subte (] , from \"subterráneo\" – \\'underground\\' or \\'subterranean\\'), is a mass transit metro system that serves the area of the city of buenos aires, argentina. the first section of this network (plaza de mayo-plaza miserere) opened in 1913, making it the 13th subway in the world, and first underground railway in latin america, the southern hemisphere and the spanish-speaking world, with the madrid metro opening five years later, in 1919. as of 2015, buenos aires is the only argentine city with a metro system, but there is a proposal to build a metro in the city of córdoba (the córdoba metro), while a proposal to build a metro in rosario was shelved in favour of a tramway network. <title> buenos aires underground </title> the buenos aires underground (spanish: \"subterráneo de buenos aires\" ), locally known as subte (] , from \"subterráneo\" – \\'underground\\' or \\'subterranean\\'), is a mass transit metro system that serves the area of the city of buenos aires, argentina. the first section of this network (plaza de mayo-plaza miserere) opened @@ in 1913, @@ making it the 13th subway in the world, and first underground railway in latin america, the southern hemisphere and the spanish-speaking world, with the madrid metro opening five years later, in 1919. as of 2015, buenos aires is the only argentine city with a metro system, but there is a proposal to build a metro in the city of córdoba (the córdoba metro), while a proposal to build a metro in rosario was shelved in favour of a tramway network.',\n",
       "  'queries': 'metrovías operates which transit metro system  buenos aires underground  first opened in which year ?',\n",
       "  'text': 'in 1913',\n",
       "  'logit': [55.158061504364014, 36.88318967819214]},\n",
       " {'evidence': '<title> tbilisi metro </title> the @@ tbilisi metro @@ (georgian: თბილისის მეტროპოლიტენი ) is a rapid transit metro system in tbilisi, georgia. opened on 11 december 1966, it was the fourth metro system in the former soviet union. like most ex-soviet metros, most of the stations are very deep and vividly decorated <title> tbilisi metro </title> the tbilisi metro (georgian: თბილისის მეტროპოლიტენი ) is a rapid transit metro system in tbilisi, georgia. opened on @@ 11 december 1966, @@ it was the fourth metro system in the former soviet union. like most ex-soviet metros, most of the stations are very deep and vividly decorated',\n",
       "  'queries': 'metrovías operates which transit metro system  tbilisi metro  first opened in which year ?',\n",
       "  'text': '11 december 1966',\n",
       "  'logit': [55.91818141937256, 34.93106186389923]},\n",
       " {'evidence': '<title> são paulo metro </title> the @@ são paulo metrô @@ (portuguese: \"metropolitano de são paulo\" ), commonly called the metrô, is the main rapid transit system in the city of são paulo and the largest in brazil. it is also the second largest system in south america and the third largest in latin america, behind the mexico city metro and the santiago metro. the five main lines in the metro system (lines 1, 2, 3, 4 & 5) operate on 81.2 km of route, serving 69 stations. a sixth line, line 15, is a monorail line that partially opened for service in 2014. in 2014, the four lines operated by cmsp (lines 1, 2, 3 & 5) achieved an average weekday ridership of 3.09 million, and provided 895.6 million rides over the course of 2014; the entire metro system served 1.098 billion passengers when line 4 is included with the other four lines. <title> metrorail (miami-dade county) </title> metrorail, colloquially called the metro, is the heavy rail rapid transit system of miami and miami-dade county, florida. metrorail is operated by miami-dade transit (mdt), a departmental agency of miami-dade county. @@ opened in 1984, @@ it is florida\\'s only rapid transit metro system, and is currently composed of two lines of 23 stations on 24.4 mi of standard gauge track.',\n",
       "  'queries': 'metrovías operates which transit metro system  são paulo metrô  first opened in which year ?',\n",
       "  'text': 'opened in 1984',\n",
       "  'logit': [50.676042556762695, 21.740548372268677]}]"
      ]
     },
     "execution_count": 63,
     "metadata": {},
     "output_type": "execute_result"
    }
   ],
   "source": [
    "decomposed_predictions['bridge']['5a8005b75542992bc0c4a681']"
   ]
  },
  {
   "cell_type": "code",
   "execution_count": 60,
   "metadata": {},
   "outputs": [
    {
     "data": {
      "text/plain": [
       "58525"
      ]
     },
     "execution_count": 60,
     "metadata": {},
     "output_type": "execute_result"
    }
   ],
   "source": [
    "len(decomposed_predictions['intersec'])"
   ]
  },
  {
   "cell_type": "code",
   "execution_count": null,
   "metadata": {
    "scrolled": false
   },
   "outputs": [],
   "source": [
    "pprint(decomposed_predictions['5a70eee85542994082a3e3f0'])"
   ]
  },
  {
   "cell_type": "code",
   "execution_count": 44,
   "metadata": {},
   "outputs": [],
   "source": [
    "# filename = 'decomposition-comparison-train-nq.json'\n",
    "# filename = 'decomposition-comparison-dev-nq.json'\n",
    "# filename = 'rulebased.json'\n",
    "filename = 'decomposition-bridge-train-v1.json'\n",
    "with open('/Users/ethanperez/research/data/decomposition-data/{}'.format(filename), 'r') as f:\n",
    "    decomposed_data = json.load(f)"
   ]
  },
  {
   "cell_type": "code",
   "execution_count": 50,
   "metadata": {},
   "outputs": [
    {
     "data": {
      "text/plain": [
       "200"
      ]
     },
     "execution_count": 50,
     "metadata": {},
     "output_type": "execute_result"
    }
   ],
   "source": [
    "len(decomposed_data['data'])"
   ]
  },
  {
   "cell_type": "code",
   "execution_count": null,
   "metadata": {},
   "outputs": [],
   "source": []
  },
  {
   "cell_type": "code",
   "execution_count": null,
   "metadata": {},
   "outputs": [],
   "source": []
  },
  {
   "cell_type": "code",
   "execution_count": 71,
   "metadata": {},
   "outputs": [],
   "source": []
  },
  {
   "cell_type": "code",
   "execution_count": 78,
   "metadata": {},
   "outputs": [
    {
     "data": {
      "image/png": "[encoded data removed]",
      "text/plain": [
       "<Figure size 432x288 with 1 Axes>"
      ]
     },
     "metadata": {
      "needs_background": "light"
     },
     "output_type": "display_data"
    }
   ],
   "source": [
    "f1s = [72.5, 71.94, 71.72, 71.84, 71, 71.45, 70.85, 70.61, 70.94]\n",
    "input_length = [0,42,90,138,186,234,282,330,377]\n",
    "plt.plot(input_length, f1s)\n",
    "plt.ylabel('HotpotQA F1 Score (%)')\n",
    "plt.xlabel('Number of Sub-Q/Sub-A Tokens Given')\n",
    "plt.savefig('/Users/ethanperez/research/data/acc-by-subq-suba-tokens.pdf', format='pdf')"
   ]
  },
  {
   "cell_type": "code",
   "execution_count": 79,
   "metadata": {},
   "outputs": [
    {
     "name": "stdout",
     "output_type": "stream",
     "text": [
      "3426\n",
      "['5a7cd0fd55429909bec76823', '5ae0a74e554299603e41842f', '5ae35c945542992e3233c3bd', '5ade063d5542995b365fabcd', '5a8841195542994846c1ce65', '5ae5e0a6554299546bf82fa9', '5adfa3da554299025d62a317', '5a77a14655429949eeb29f13', '5a8e5a635542990e94052ae4', '5ab2d3c5554299295394687a']\n"
     ]
    }
   ],
   "source": [
    "with open('/Users/ethanperez/Downloads/hotpot_dev_1hop_solv_nonsolv.json', 'r') as f:\n",
    "    onehop_solved_qids = json.load(f)\n",
    "print(len(onehop_solved_qids['1hop_solv']))\n",
    "print(onehop_solved_qids['1hop_solv'][:10])"
   ]
  },
  {
   "cell_type": "code",
   "execution_count": 83,
   "metadata": {},
   "outputs": [
    {
     "name": "stdout",
     "output_type": "stream",
     "text": [
      "[70.58 71.27 71.74 71.76 71.88 71.99 72.11 72.11 72.17 72.29]\n"
     ]
    }
   ],
   "source": [
    "f1s = np.array([71.74,72.11,71.27,71.88,71.99,72.11,72.29,71.76,70.58,72.17])\n",
    "f1s.sort()\n",
    "print(f1s)"
   ]
  },
  {
   "cell_type": "code",
   "execution_count": 95,
   "metadata": {},
   "outputs": [
    {
     "data": {
      "text/plain": [
       "71.935"
      ]
     },
     "execution_count": 95,
     "metadata": {},
     "output_type": "execute_result"
    }
   ],
   "source": [
    "np.median(f1s)"
   ]
  },
  {
   "cell_type": "code",
   "execution_count": 82,
   "metadata": {},
   "outputs": [
    {
     "data": {
      "text/plain": [
       "0.4883850939576281"
      ]
     },
     "execution_count": 82,
     "metadata": {},
     "output_type": "execute_result"
    }
   ],
   "source": [
    "f1s.std()"
   ]
  },
  {
   "cell_type": "code",
   "execution_count": null,
   "metadata": {},
   "outputs": [],
   "source": []
  }
 ],
 "metadata": {
  "kernelspec": {
   "display_name": "Python 3",
   "language": "python",
   "name": "python3"
  },
  "language_info": {
   "codemirror_mode": {
    "name": "ipython",
    "version": 3
   },
   "file_extension": ".py",
   "mimetype": "text/x-python",
   "name": "python",
   "nbconvert_exporter": "python",
   "pygments_lexer": "ipython3",
   "version": "3.6.2+"
  }
 },
 "nbformat": 4,
 "nbformat_minor": 2
}
